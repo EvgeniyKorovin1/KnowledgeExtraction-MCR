{
  "nbformat": 4,
  "nbformat_minor": 0,
  "metadata": {
    "colab": {
      "provenance": []
    },
    "kernelspec": {
      "name": "python3",
      "display_name": "Python 3"
    },
    "language_info": {
      "name": "python"
    }
  },
  "cells": [
    {
      "cell_type": "code",
      "execution_count": null,
      "metadata": {
        "id": "mXwm8MXpusAA",
        "colab": {
          "base_uri": "https://localhost:8080/"
        },
        "outputId": "b5e84552-2bcb-4ab5-fa76-f2992cb535a6"
      },
      "outputs": [
        {
          "output_type": "stream",
          "name": "stdout",
          "text": [
            "Looking in indexes: https://pypi.org/simple, https://us-python.pkg.dev/colab-wheels/public/simple/\n",
            "Collecting pymorphy2\n",
            "  Downloading pymorphy2-0.9.1-py3-none-any.whl (55 kB)\n",
            "\u001b[2K     \u001b[90m━━━━━━━━━━━━━━━━━━━━━━━━━━━━━━━━━━━━━━━━\u001b[0m \u001b[32m55.5/55.5 kB\u001b[0m \u001b[31m5.6 MB/s\u001b[0m eta \u001b[36m0:00:00\u001b[0m\n",
            "\u001b[?25hCollecting dawg-python>=0.7.1 (from pymorphy2)\n",
            "  Downloading DAWG_Python-0.7.2-py2.py3-none-any.whl (11 kB)\n",
            "Collecting pymorphy2-dicts-ru<3.0,>=2.4 (from pymorphy2)\n",
            "  Downloading pymorphy2_dicts_ru-2.4.417127.4579844-py2.py3-none-any.whl (8.2 MB)\n",
            "\u001b[2K     \u001b[90m━━━━━━━━━━━━━━━━━━━━━━━━━━━━━━━━━━━━━━━━\u001b[0m \u001b[32m8.2/8.2 MB\u001b[0m \u001b[31m102.9 MB/s\u001b[0m eta \u001b[36m0:00:00\u001b[0m\n",
            "\u001b[?25hCollecting docopt>=0.6 (from pymorphy2)\n",
            "  Downloading docopt-0.6.2.tar.gz (25 kB)\n",
            "  Preparing metadata (setup.py) ... \u001b[?25l\u001b[?25hdone\n",
            "Building wheels for collected packages: docopt\n",
            "  Building wheel for docopt (setup.py) ... \u001b[?25l\u001b[?25hdone\n",
            "  Created wheel for docopt: filename=docopt-0.6.2-py2.py3-none-any.whl size=13707 sha256=ce219242215ae931f7f8e6f06791239f38193ae33e6eebbfea8bf0b50e1b425c\n",
            "  Stored in directory: /root/.cache/pip/wheels/fc/ab/d4/5da2067ac95b36618c629a5f93f809425700506f72c9732fac\n",
            "Successfully built docopt\n",
            "Installing collected packages: pymorphy2-dicts-ru, docopt, dawg-python, pymorphy2\n",
            "Successfully installed dawg-python-0.7.2 docopt-0.6.2 pymorphy2-0.9.1 pymorphy2-dicts-ru-2.4.417127.4579844\n"
          ]
        }
      ],
      "source": [
        "!pip install pymorphy2"
      ]
    },
    {
      "cell_type": "code",
      "source": [
        "%load_ext autoreload\n",
        "%autoreload 2\n",
        "import collections\n",
        "import re\n",
        "import copy\n",
        "import datetime\n",
        "import random\n",
        "import traceback\n",
        "import numpy as np\n",
        "import scipy.sparse\n",
        "import torch\n",
        "from torch.utils.data import DataLoader\n",
        "from torch.utils.data import Dataset\n",
        "import random\n",
        "import pandas as pd\n",
        "import matplotlib.pyplot as plt\n",
        "%matplotlib inline\n",
        "\n",
        "import torch\n",
        "from torch import nn\n",
        "from torch.nn import functional as F\n",
        "from sklearn.decomposition import TruncatedSVD\n",
        "from sklearn.manifold import TSNE\n",
        "\n",
        "\n",
        "import nltk\n",
        "from nltk.tokenize import sent_tokenize\n",
        "from nltk.corpus import stopwords\n",
        "from pymorphy2 import MorphAnalyzer"
      ],
      "metadata": {
        "id": "XF2MwpQbu6Tu"
      },
      "execution_count": null,
      "outputs": []
    },
    {
      "cell_type": "code",
      "source": [
        "nltk.download('stopwords')\n",
        "nltk.download('punkt')"
      ],
      "metadata": {
        "id": "YU4ZyWvRu-he",
        "colab": {
          "base_uri": "https://localhost:8080/"
        },
        "outputId": "b0d598d5-aae6-4c9a-d751-c53cbfe8aa63"
      },
      "execution_count": null,
      "outputs": [
        {
          "output_type": "stream",
          "name": "stderr",
          "text": [
            "[nltk_data] Downloading package stopwords to /root/nltk_data...\n",
            "[nltk_data]   Unzipping corpora/stopwords.zip.\n",
            "[nltk_data] Downloading package punkt to /root/nltk_data...\n",
            "[nltk_data]   Unzipping tokenizers/punkt.zip.\n"
          ]
        },
        {
          "output_type": "execute_result",
          "data": {
            "text/plain": [
              "True"
            ]
          },
          "metadata": {},
          "execution_count": 3
        }
      ]
    },
    {
      "cell_type": "code",
      "source": [
        "file_path = '/content/Text_Recommendations.txt'\n",
        "#file_path = '/content/Text_Recommendations.rar'\n",
        "with open(file_path, 'r', encoding='utf-8') as file:\n",
        "    text = file.read()\n",
        "text = text.replace('\\n', '')\n",
        "with open(file_path, 'w', encoding='utf-8') as file:\n",
        "    file.write(text)\n",
        "print(\"Переходы на новую строку удалены\")"
      ],
      "metadata": {
        "id": "UjzsIrb2vB-_",
        "colab": {
          "base_uri": "https://localhost:8080/"
        },
        "outputId": "e5bec202-dc71-455b-db50-e6abd5e16a7f"
      },
      "execution_count": null,
      "outputs": [
        {
          "output_type": "stream",
          "name": "stdout",
          "text": [
            "Переходы на новую строку удалены\n"
          ]
        }
      ]
    },
    {
      "cell_type": "code",
      "source": [
        "# Загрузка модуля для нормализации слов\n",
        "morph = MorphAnalyzer()\n",
        "\n",
        "# Текст для обработки\n",
        "file_path = '/content/Text_Recommendations.txt'\n",
        "#file_path = '/content/Text_Recommendations.rar'\n",
        "with open(file_path, 'r') as file:\n",
        "    text = file.read()"
      ],
      "metadata": {
        "id": "8rG_TDzYvGb3"
      },
      "execution_count": null,
      "outputs": []
    },
    {
      "cell_type": "code",
      "source": [
        "# Разделение текста на предложения\n",
        "sentences = sent_tokenize(text, language='russian')\n",
        "# Список стоп-слов для удаления\n",
        "stop_words = set(stopwords.words('russian'))"
      ],
      "metadata": {
        "id": "daVy9YpSvGSP"
      },
      "execution_count": null,
      "outputs": []
    },
    {
      "cell_type": "code",
      "source": [
        "# Функция для нормализации слова\n",
        "def normalize_word(word):\n",
        "    parsed_word = morph.parse(word)[0]\n",
        "    return parsed_word.normal_form\n",
        "\n",
        "# Функция для обработки предложения\n",
        "def process_sentence(sentence):\n",
        "    words = nltk.word_tokenize(sentence, language='russian')\n",
        "    normalized_words = [normalize_word(word) for word in words if word.isalpha() and word not in stop_words]\n",
        "    return normalized_words"
      ],
      "metadata": {
        "id": "96bbktJfvRUu"
      },
      "execution_count": null,
      "outputs": []
    },
    {
      "cell_type": "code",
      "source": [
        "# Создание фреймов данных\n",
        "dataFull = {'Предложения': [], 'Нормализованный текст': []}\n",
        "dataPart = {'Предложения': []}\n",
        "\n",
        "# Обработка каждого предложения\n",
        "for sentence in sentences:\n",
        "    normalized_words = process_sentence(sentence)\n",
        "    dataFull['Предложения'].append(sentence)\n",
        "    dataPart['Предложения'].append(sentence)\n",
        "    dataFull['Нормализованный текст'].append(normalized_words)"
      ],
      "metadata": {
        "id": "ZvGF0144vRnu"
      },
      "execution_count": null,
      "outputs": []
    },
    {
      "cell_type": "code",
      "source": [
        "dfFull = pd.DataFrame(dataFull)\n",
        "dfPart = pd.DataFrame(dataPart)\n"
      ],
      "metadata": {
        "id": "AoLke54Hvvbe"
      },
      "execution_count": null,
      "outputs": []
    },
    {
      "cell_type": "code",
      "source": [
        "dfFull.head()"
      ],
      "metadata": {
        "id": "P8gA6BwCbgJq",
        "colab": {
          "base_uri": "https://localhost:8080/",
          "height": 206
        },
        "outputId": "198a10f3-9480-4556-cb5c-5a9b23192367"
      },
      "execution_count": null,
      "outputs": [
        {
          "output_type": "execute_result",
          "data": {
            "text/plain": [
              "                                         Предложения  \\\n",
              "0  Хроническая обструктивная болезнь легких (ХОБЛ...   \n",
              "1  Обострения и коморбидные состояния являются не...   \n",
              "2           Курение остается основной причиной ХОБЛ.   \n",
              "3  По некоторым оценкам, в индустриальных странах...   \n",
              "4  В развивающихся странах существенное повреждаю...   \n",
              "\n",
              "                               Нормализованный текст  \n",
              "0  [хронический, обструктивный, болезнь, лёгкий, ...  \n",
              "1  [обострение, коморбидный, состояние, являться,...  \n",
              "2     [курение, оставаться, основной, причина, хобл]  \n",
              "3  [по, некоторый, оценка, индустриальный, страна...  \n",
              "4  [в, развивающийся, страна, существенный, повре...  "
            ],
            "text/html": [
              "\n",
              "  <div id=\"df-2534d918-1c0d-4656-b31a-7d2055492b11\">\n",
              "    <div class=\"colab-df-container\">\n",
              "      <div>\n",
              "<style scoped>\n",
              "    .dataframe tbody tr th:only-of-type {\n",
              "        vertical-align: middle;\n",
              "    }\n",
              "\n",
              "    .dataframe tbody tr th {\n",
              "        vertical-align: top;\n",
              "    }\n",
              "\n",
              "    .dataframe thead th {\n",
              "        text-align: right;\n",
              "    }\n",
              "</style>\n",
              "<table border=\"1\" class=\"dataframe\">\n",
              "  <thead>\n",
              "    <tr style=\"text-align: right;\">\n",
              "      <th></th>\n",
              "      <th>Предложения</th>\n",
              "      <th>Нормализованный текст</th>\n",
              "    </tr>\n",
              "  </thead>\n",
              "  <tbody>\n",
              "    <tr>\n",
              "      <th>0</th>\n",
              "      <td>Хроническая обструктивная болезнь легких (ХОБЛ...</td>\n",
              "      <td>[хронический, обструктивный, болезнь, лёгкий, ...</td>\n",
              "    </tr>\n",
              "    <tr>\n",
              "      <th>1</th>\n",
              "      <td>Обострения и коморбидные состояния являются не...</td>\n",
              "      <td>[обострение, коморбидный, состояние, являться,...</td>\n",
              "    </tr>\n",
              "    <tr>\n",
              "      <th>2</th>\n",
              "      <td>Курение остается основной причиной ХОБЛ.</td>\n",
              "      <td>[курение, оставаться, основной, причина, хобл]</td>\n",
              "    </tr>\n",
              "    <tr>\n",
              "      <th>3</th>\n",
              "      <td>По некоторым оценкам, в индустриальных странах...</td>\n",
              "      <td>[по, некоторый, оценка, индустриальный, страна...</td>\n",
              "    </tr>\n",
              "    <tr>\n",
              "      <th>4</th>\n",
              "      <td>В развивающихся странах существенное повреждаю...</td>\n",
              "      <td>[в, развивающийся, страна, существенный, повре...</td>\n",
              "    </tr>\n",
              "  </tbody>\n",
              "</table>\n",
              "</div>\n",
              "      <button class=\"colab-df-convert\" onclick=\"convertToInteractive('df-2534d918-1c0d-4656-b31a-7d2055492b11')\"\n",
              "              title=\"Convert this dataframe to an interactive table.\"\n",
              "              style=\"display:none;\">\n",
              "        \n",
              "  <svg xmlns=\"http://www.w3.org/2000/svg\" height=\"24px\"viewBox=\"0 0 24 24\"\n",
              "       width=\"24px\">\n",
              "    <path d=\"M0 0h24v24H0V0z\" fill=\"none\"/>\n",
              "    <path d=\"M18.56 5.44l.94 2.06.94-2.06 2.06-.94-2.06-.94-.94-2.06-.94 2.06-2.06.94zm-11 1L8.5 8.5l.94-2.06 2.06-.94-2.06-.94L8.5 2.5l-.94 2.06-2.06.94zm10 10l.94 2.06.94-2.06 2.06-.94-2.06-.94-.94-2.06-.94 2.06-2.06.94z\"/><path d=\"M17.41 7.96l-1.37-1.37c-.4-.4-.92-.59-1.43-.59-.52 0-1.04.2-1.43.59L10.3 9.45l-7.72 7.72c-.78.78-.78 2.05 0 2.83L4 21.41c.39.39.9.59 1.41.59.51 0 1.02-.2 1.41-.59l7.78-7.78 2.81-2.81c.8-.78.8-2.07 0-2.86zM5.41 20L4 18.59l7.72-7.72 1.47 1.35L5.41 20z\"/>\n",
              "  </svg>\n",
              "      </button>\n",
              "      \n",
              "  <style>\n",
              "    .colab-df-container {\n",
              "      display:flex;\n",
              "      flex-wrap:wrap;\n",
              "      gap: 12px;\n",
              "    }\n",
              "\n",
              "    .colab-df-convert {\n",
              "      background-color: #E8F0FE;\n",
              "      border: none;\n",
              "      border-radius: 50%;\n",
              "      cursor: pointer;\n",
              "      display: none;\n",
              "      fill: #1967D2;\n",
              "      height: 32px;\n",
              "      padding: 0 0 0 0;\n",
              "      width: 32px;\n",
              "    }\n",
              "\n",
              "    .colab-df-convert:hover {\n",
              "      background-color: #E2EBFA;\n",
              "      box-shadow: 0px 1px 2px rgba(60, 64, 67, 0.3), 0px 1px 3px 1px rgba(60, 64, 67, 0.15);\n",
              "      fill: #174EA6;\n",
              "    }\n",
              "\n",
              "    [theme=dark] .colab-df-convert {\n",
              "      background-color: #3B4455;\n",
              "      fill: #D2E3FC;\n",
              "    }\n",
              "\n",
              "    [theme=dark] .colab-df-convert:hover {\n",
              "      background-color: #434B5C;\n",
              "      box-shadow: 0px 1px 3px 1px rgba(0, 0, 0, 0.15);\n",
              "      filter: drop-shadow(0px 1px 2px rgba(0, 0, 0, 0.3));\n",
              "      fill: #FFFFFF;\n",
              "    }\n",
              "  </style>\n",
              "\n",
              "      <script>\n",
              "        const buttonEl =\n",
              "          document.querySelector('#df-2534d918-1c0d-4656-b31a-7d2055492b11 button.colab-df-convert');\n",
              "        buttonEl.style.display =\n",
              "          google.colab.kernel.accessAllowed ? 'block' : 'none';\n",
              "\n",
              "        async function convertToInteractive(key) {\n",
              "          const element = document.querySelector('#df-2534d918-1c0d-4656-b31a-7d2055492b11');\n",
              "          const dataTable =\n",
              "            await google.colab.kernel.invokeFunction('convertToInteractive',\n",
              "                                                     [key], {});\n",
              "          if (!dataTable) return;\n",
              "\n",
              "          const docLinkHtml = 'Like what you see? Visit the ' +\n",
              "            '<a target=\"_blank\" href=https://colab.research.google.com/notebooks/data_table.ipynb>data table notebook</a>'\n",
              "            + ' to learn more about interactive tables.';\n",
              "          element.innerHTML = '';\n",
              "          dataTable['output_type'] = 'display_data';\n",
              "          await google.colab.output.renderOutput(dataTable, element);\n",
              "          const docLink = document.createElement('div');\n",
              "          docLink.innerHTML = docLinkHtml;\n",
              "          element.appendChild(docLink);\n",
              "        }\n",
              "      </script>\n",
              "    </div>\n",
              "  </div>\n",
              "  "
            ]
          },
          "metadata": {},
          "execution_count": 10
        }
      ]
    },
    {
      "cell_type": "code",
      "source": [
        "dfPart.head()"
      ],
      "metadata": {
        "id": "Sp9cxmbwMlpS",
        "colab": {
          "base_uri": "https://localhost:8080/",
          "height": 206
        },
        "outputId": "498d931d-0879-4204-a02d-39e65ab24c51"
      },
      "execution_count": null,
      "outputs": [
        {
          "output_type": "execute_result",
          "data": {
            "text/plain": [
              "                                         Предложения\n",
              "0  Хроническая обструктивная болезнь легких (ХОБЛ...\n",
              "1  Обострения и коморбидные состояния являются не...\n",
              "2           Курение остается основной причиной ХОБЛ.\n",
              "3  По некоторым оценкам, в индустриальных странах...\n",
              "4  В развивающихся странах существенное повреждаю..."
            ],
            "text/html": [
              "\n",
              "  <div id=\"df-db365a2c-d8cb-4971-ae3d-1b56b2860870\">\n",
              "    <div class=\"colab-df-container\">\n",
              "      <div>\n",
              "<style scoped>\n",
              "    .dataframe tbody tr th:only-of-type {\n",
              "        vertical-align: middle;\n",
              "    }\n",
              "\n",
              "    .dataframe tbody tr th {\n",
              "        vertical-align: top;\n",
              "    }\n",
              "\n",
              "    .dataframe thead th {\n",
              "        text-align: right;\n",
              "    }\n",
              "</style>\n",
              "<table border=\"1\" class=\"dataframe\">\n",
              "  <thead>\n",
              "    <tr style=\"text-align: right;\">\n",
              "      <th></th>\n",
              "      <th>Предложения</th>\n",
              "    </tr>\n",
              "  </thead>\n",
              "  <tbody>\n",
              "    <tr>\n",
              "      <th>0</th>\n",
              "      <td>Хроническая обструктивная болезнь легких (ХОБЛ...</td>\n",
              "    </tr>\n",
              "    <tr>\n",
              "      <th>1</th>\n",
              "      <td>Обострения и коморбидные состояния являются не...</td>\n",
              "    </tr>\n",
              "    <tr>\n",
              "      <th>2</th>\n",
              "      <td>Курение остается основной причиной ХОБЛ.</td>\n",
              "    </tr>\n",
              "    <tr>\n",
              "      <th>3</th>\n",
              "      <td>По некоторым оценкам, в индустриальных странах...</td>\n",
              "    </tr>\n",
              "    <tr>\n",
              "      <th>4</th>\n",
              "      <td>В развивающихся странах существенное повреждаю...</td>\n",
              "    </tr>\n",
              "  </tbody>\n",
              "</table>\n",
              "</div>\n",
              "      <button class=\"colab-df-convert\" onclick=\"convertToInteractive('df-db365a2c-d8cb-4971-ae3d-1b56b2860870')\"\n",
              "              title=\"Convert this dataframe to an interactive table.\"\n",
              "              style=\"display:none;\">\n",
              "        \n",
              "  <svg xmlns=\"http://www.w3.org/2000/svg\" height=\"24px\"viewBox=\"0 0 24 24\"\n",
              "       width=\"24px\">\n",
              "    <path d=\"M0 0h24v24H0V0z\" fill=\"none\"/>\n",
              "    <path d=\"M18.56 5.44l.94 2.06.94-2.06 2.06-.94-2.06-.94-.94-2.06-.94 2.06-2.06.94zm-11 1L8.5 8.5l.94-2.06 2.06-.94-2.06-.94L8.5 2.5l-.94 2.06-2.06.94zm10 10l.94 2.06.94-2.06 2.06-.94-2.06-.94-.94-2.06-.94 2.06-2.06.94z\"/><path d=\"M17.41 7.96l-1.37-1.37c-.4-.4-.92-.59-1.43-.59-.52 0-1.04.2-1.43.59L10.3 9.45l-7.72 7.72c-.78.78-.78 2.05 0 2.83L4 21.41c.39.39.9.59 1.41.59.51 0 1.02-.2 1.41-.59l7.78-7.78 2.81-2.81c.8-.78.8-2.07 0-2.86zM5.41 20L4 18.59l7.72-7.72 1.47 1.35L5.41 20z\"/>\n",
              "  </svg>\n",
              "      </button>\n",
              "      \n",
              "  <style>\n",
              "    .colab-df-container {\n",
              "      display:flex;\n",
              "      flex-wrap:wrap;\n",
              "      gap: 12px;\n",
              "    }\n",
              "\n",
              "    .colab-df-convert {\n",
              "      background-color: #E8F0FE;\n",
              "      border: none;\n",
              "      border-radius: 50%;\n",
              "      cursor: pointer;\n",
              "      display: none;\n",
              "      fill: #1967D2;\n",
              "      height: 32px;\n",
              "      padding: 0 0 0 0;\n",
              "      width: 32px;\n",
              "    }\n",
              "\n",
              "    .colab-df-convert:hover {\n",
              "      background-color: #E2EBFA;\n",
              "      box-shadow: 0px 1px 2px rgba(60, 64, 67, 0.3), 0px 1px 3px 1px rgba(60, 64, 67, 0.15);\n",
              "      fill: #174EA6;\n",
              "    }\n",
              "\n",
              "    [theme=dark] .colab-df-convert {\n",
              "      background-color: #3B4455;\n",
              "      fill: #D2E3FC;\n",
              "    }\n",
              "\n",
              "    [theme=dark] .colab-df-convert:hover {\n",
              "      background-color: #434B5C;\n",
              "      box-shadow: 0px 1px 3px 1px rgba(0, 0, 0, 0.15);\n",
              "      filter: drop-shadow(0px 1px 2px rgba(0, 0, 0, 0.3));\n",
              "      fill: #FFFFFF;\n",
              "    }\n",
              "  </style>\n",
              "\n",
              "      <script>\n",
              "        const buttonEl =\n",
              "          document.querySelector('#df-db365a2c-d8cb-4971-ae3d-1b56b2860870 button.colab-df-convert');\n",
              "        buttonEl.style.display =\n",
              "          google.colab.kernel.accessAllowed ? 'block' : 'none';\n",
              "\n",
              "        async function convertToInteractive(key) {\n",
              "          const element = document.querySelector('#df-db365a2c-d8cb-4971-ae3d-1b56b2860870');\n",
              "          const dataTable =\n",
              "            await google.colab.kernel.invokeFunction('convertToInteractive',\n",
              "                                                     [key], {});\n",
              "          if (!dataTable) return;\n",
              "\n",
              "          const docLinkHtml = 'Like what you see? Visit the ' +\n",
              "            '<a target=\"_blank\" href=https://colab.research.google.com/notebooks/data_table.ipynb>data table notebook</a>'\n",
              "            + ' to learn more about interactive tables.';\n",
              "          element.innerHTML = '';\n",
              "          dataTable['output_type'] = 'display_data';\n",
              "          await google.colab.output.renderOutput(dataTable, element);\n",
              "          const docLink = document.createElement('div');\n",
              "          docLink.innerHTML = docLinkHtml;\n",
              "          element.appendChild(docLink);\n",
              "        }\n",
              "      </script>\n",
              "    </div>\n",
              "  </div>\n",
              "  "
            ]
          },
          "metadata": {},
          "execution_count": 11
        }
      ]
    },
    {
      "cell_type": "code",
      "source": [
        "dfFull.to_csv('fileFull.csv', index=False)\n",
        "dfPart.to_csv('filePart.csv', index=False)"
      ],
      "metadata": {
        "id": "FHk6F-zTvvHO"
      },
      "execution_count": null,
      "outputs": []
    },
    {
      "cell_type": "code",
      "source": [
        "TOKEN_RE = re.compile(r'[\\w\\d]+')\n",
        "\n",
        "# Функция выполняет токенизацию текста txt  с использованием регулярного выражения, возвращая список токенов, удовлетворяющих заданному минимальному размеру min_token_size\n",
        "def tokenize_text_simple_regex(txt, min_token_size=4):\n",
        "    txt = txt.lower()\n",
        "    all_tokens = TOKEN_RE.findall(txt)\n",
        "    return [token for token in all_tokens if len(token) >= min_token_size]\n",
        "\n",
        "# Функция разбивает текст txt на отдельные символы, возвращая список символов\n",
        "def character_tokenize(txt):\n",
        "    return list(txt)\n",
        "\n",
        "# Функция осуществляет токенизацию корпуса текстов texts с помощью указанного токенизатора (по умолчанию tokenize_text_simple_regex), возвращая список списков токенов для каждого текста\n",
        "def tokenize_corpus(texts, tokenizer=tokenize_text_simple_regex, **tokenizer_kwargs):\n",
        "    return [tokenizer(text, **tokenizer_kwargs) for text in texts]\n",
        "\n",
        "# Функция  добавляет фиктивный токен с индексом 0 в словарь word2id, присваивая ему указанный токен (по умолчанию <PAD>), и возвращает обновленный словарь\n",
        "def add_fake_token(word2id, token='<PAD>'):\n",
        "    word2id_new = {token: i + 1 for token, i in word2id.items()}\n",
        "    word2id_new[token] = 0\n",
        "    return word2id_new\n",
        "\n",
        "# Функция преобразует список списков токенов tokenized_texts в список списков их соответствующих идентификаторов на основе словаря word2id, возвращая результат\n",
        "def texts_to_token_ids(tokenized_texts, word2id):\n",
        "    return [[word2id[token] for token in text if token in word2id]\n",
        "            for text in tokenized_texts]\n",
        "\n",
        "# Функция  строит словарь word2id на основе токенизированных текстов tokenized_texts\n",
        "def build_vocabulary(tokenized_texts, max_size=1000000, max_doc_freq=0.8, min_count=5, pad_word=None):\n",
        "    word_counts = collections.defaultdict(int)\n",
        "    doc_n = 0\n",
        "\n",
        "    # посчитать количество документов, в которых употребляется каждое слово\n",
        "    # а также общее количество документов\n",
        "    for txt in tokenized_texts:\n",
        "        doc_n += 1\n",
        "        unique_text_tokens = set(txt)\n",
        "        for token in unique_text_tokens:\n",
        "            word_counts[token] += 1\n",
        "\n",
        "    # убрать слишком редкие и слишком частые слова\n",
        "    word_counts = {word: cnt for word, cnt in word_counts.items()\n",
        "                   if cnt >= min_count and cnt / doc_n <= max_doc_freq}\n",
        "\n",
        "    # отсортировать слова по убыванию частоты\n",
        "    sorted_word_counts = sorted(word_counts.items(),\n",
        "                                reverse=True,\n",
        "                                key=lambda pair: pair[1])\n",
        "\n",
        "    # добавим несуществующее слово с индексом 0 для удобства пакетной обработки\n",
        "    if pad_word is not None:\n",
        "        sorted_word_counts = [(pad_word, 0)] + sorted_word_counts\n",
        "\n",
        "    # если у нас по прежнему слишком много слов, оставить только max_size самых частотных\n",
        "    if len(word_counts) > max_size:\n",
        "        sorted_word_counts = sorted_word_counts[:max_size]\n",
        "\n",
        "    # нумеруем слова\n",
        "    word2id = {word: i for i, (word, _) in enumerate(sorted_word_counts)}\n",
        "\n",
        "    # нормируем частоты слов\n",
        "    word2freq = np.array([cnt / doc_n for _, cnt in sorted_word_counts], dtype='float32')\n",
        "\n",
        "    return word2id, word2freq\n",
        "\n",
        "\n",
        "PAD_TOKEN = '__PAD__'\n",
        "NUMERIC_TOKEN = '__NUMBER__'\n",
        "NUMERIC_RE = re.compile(r'^([0-9.,e+\\-]+|[mcxvi]+)$', re.I)\n",
        "\n",
        "# Функция заменяет числовые токены в списках токенов tokenized_texts на специальный токен NUMERIC_TOKEN, возвращая обновленные списки токенов\n",
        "def replace_number_nokens(tokenized_texts):\n",
        "    return [[token if not NUMERIC_RE.match(token) else NUMERIC_TOKEN for token in text]\n",
        "            for text in tokenized_texts]"
      ],
      "metadata": {
        "id": "MAwAJFdq5vLr"
      },
      "execution_count": null,
      "outputs": []
    },
    {
      "cell_type": "code",
      "source": [
        "class Embeddings:\n",
        "    def __init__(self, embeddings, word2id):\n",
        "        self.embeddings = embeddings\n",
        "        self.embeddings /= (np.linalg.norm(self.embeddings, ord=2, axis=-1, keepdims=True) + 1e-4)\n",
        "        self.word2id = word2id\n",
        "        self.id2word = {i: w for w, i in word2id.items()}\n",
        "\n",
        "    def most_similar(self, word, topk=10):\n",
        "        return self.most_similar_by_vector(self.get_vector(word), topk=topk)\n",
        "\n",
        "    def analogy(self, a1, b1, a2, topk=10):\n",
        "        a1_v = self.get_vector(a1)\n",
        "        b1_v = self.get_vector(b1)\n",
        "        a2_v = self.get_vector(a2)\n",
        "        query = b1_v - a1_v + a2_v\n",
        "        return self.most_similar_by_vector(query, topk=topk)\n",
        "\n",
        "    def most_similar_by_vector(self, query_vector, topk=10):\n",
        "        similarities = (self.embeddings * query_vector).sum(-1)\n",
        "        best_indices = np.argpartition(-similarities, topk, axis=0)[:topk]\n",
        "        result = [(self.id2word[i], similarities[i]) for i in best_indices]\n",
        "        result.sort(key=lambda pair: -pair[1])\n",
        "        return result\n",
        "\n",
        "    def get_vector(self, word):\n",
        "        if word not in self.word2id:\n",
        "            raise ValueError('Неизвестное слово \"{}\"'.format(word))\n",
        "        return self.embeddings[self.word2id[word]]\n",
        "\n",
        "    def get_vectors(self, *words):\n",
        "        word_ids = [self.word2id[i] for i in words]\n",
        "        vectors = np.stack([self.embeddings[i] for i in word_ids], axis=0)\n",
        "        return vectors"
      ],
      "metadata": {
        "id": "J9ws2w9v6DCq"
      },
      "execution_count": null,
      "outputs": []
    },
    {
      "cell_type": "code",
      "source": [
        "def ensure_length(txt, out_len, pad_value):\n",
        "    if len(txt) < out_len:\n",
        "        txt = list(txt) + [pad_value] * (out_len - len(txt))\n",
        "    else:\n",
        "        txt = txt[:out_len]\n",
        "    return txt\n",
        "\n",
        "\n",
        "class PaddedSequenceDataset(Dataset):\n",
        "    def __init__(self, texts, targets, out_len=100, pad_value=0):\n",
        "        self.texts = texts\n",
        "        self.targets = targets\n",
        "        self.out_len = out_len\n",
        "        self.pad_value = pad_value\n",
        "\n",
        "    def __len__(self):\n",
        "        return len(self.texts)\n",
        "\n",
        "    def __getitem__(self, item):\n",
        "        txt = self.texts[item]\n",
        "\n",
        "        txt = ensure_length(txt, self.out_len, self.pad_value)\n",
        "        txt = torch.tensor(txt, dtype=torch.long)\n",
        "\n",
        "        target = torch.tensor(self.targets[item], dtype=torch.long)\n",
        "\n",
        "        return txt, target\n",
        "\n",
        "# Функция создает маску на основе длин последовательностей lengths и максимальной длины max_length, где 1 указывает на наличие элемента в последовательности, а 0 на паддинг\n",
        "def make_mask_from_lengths(lengths, max_length):\n",
        "    result = torch.zeros(len(lengths), max_length, dtype=torch.bool)\n",
        "    for sample_i, cur_len in enumerate(lengths):\n",
        "        result[sample_i, :cur_len] = 1\n",
        "    return result"
      ],
      "metadata": {
        "id": "fSleqRO46OhS"
      },
      "execution_count": null,
      "outputs": []
    },
    {
      "cell_type": "code",
      "source": [
        "# Функция устанавливает случайное зерно для генераторов случайных чисел в Python и PyTorch с целью воспроизводимости результатов\n",
        "def init_random_seed(value=0):\n",
        "    random.seed(value)\n",
        "    np.random.seed(value)\n",
        "    torch.manual_seed(value)\n",
        "    torch.cuda.manual_seed(value)\n",
        "    torch.backends.cudnn.deterministic = True\n",
        "\n",
        "# Функция копирует данные data на указанное устройство device, поддерживая как тензоры PyTorch, так и списки/кортежи с вложенными тензорами\n",
        "def copy_data_to_device(data, device):\n",
        "    if torch.is_tensor(data):\n",
        "        return data.to(device)\n",
        "    elif isinstance(data, (list, tuple)):\n",
        "        return [copy_data_to_device(elem, device) for elem in data]\n",
        "    raise ValueError('Недопустимый тип данных {}'.format(type(data)))\n",
        "\n",
        "# Функция выводит статистику градиентов модели model, включая среднее значение, стандартное отклонение и норму градиентов\n",
        "def print_grad_stats(model):\n",
        "    mean = 0\n",
        "    std = 0\n",
        "    norm = 1e-5\n",
        "    for param in model.parameters():\n",
        "        grad = getattr(param, 'grad', None)\n",
        "        if grad is not None:\n",
        "            mean += grad.data.abs().mean()\n",
        "            std += grad.data.std()\n",
        "            norm += 1\n",
        "    mean /= norm\n",
        "    std /= norm\n",
        "    print(f'Mean grad {mean}, std {std}, n {norm}')\n",
        "\n",
        "# Функция реализует цикл обучения модели с оценкой качества на отложенной выборке после каждой эпохи\n",
        "def train_eval_loop(model, train_dataset, val_dataset, criterion,\n",
        "                    lr=1e-4, epoch_n=10, batch_size=32,\n",
        "                    device=None, early_stopping_patience=10, l2_reg_alpha=0,\n",
        "                    max_batches_per_epoch_train=10000,\n",
        "                    max_batches_per_epoch_val=1000,\n",
        "                    data_loader_ctor=DataLoader,\n",
        "                    optimizer_ctor=None,\n",
        "                    lr_scheduler_ctor=None,\n",
        "                    shuffle_train=True,\n",
        "                    dataloader_workers_n=0):\n",
        "    \"\"\"\n",
        "    Цикл для обучения модели. После каждой эпохи качество модели оценивается по отложенной выборке.\n",
        "    :param model: torch.nn.Module - обучаемая модель\n",
        "    :param train_dataset: torch.utils.data.Dataset - данные для обучения\n",
        "    :param val_dataset: torch.utils.data.Dataset - данные для оценки качества\n",
        "    :param criterion: функция потерь для настройки модели\n",
        "    :param lr: скорость обучения\n",
        "    :param epoch_n: максимальное количество эпох\n",
        "    :param batch_size: количество примеров, обрабатываемых моделью за одну итерацию\n",
        "    :param device: cuda/cpu - устройство, на котором выполнять вычисления\n",
        "    :param early_stopping_patience: наибольшее количество эпох, в течение которых допускается\n",
        "        отсутствие улучшения модели, чтобы обучение продолжалось.\n",
        "    :param l2_reg_alpha: коэффициент L2-регуляризации\n",
        "    :param max_batches_per_epoch_train: максимальное количество итераций на одну эпоху обучения\n",
        "    :param max_batches_per_epoch_val: максимальное количество итераций на одну эпоху валидации\n",
        "    :param data_loader_ctor: функция для создания объекта, преобразующего датасет в батчи\n",
        "        (по умолчанию torch.utils.data.DataLoader)\n",
        "    :return: кортеж из двух элементов:\n",
        "        - среднее значение функции потерь на валидации на лучшей эпохе\n",
        "        - лучшая модель\n",
        "    \"\"\"\n",
        "    if device is None:\n",
        "        device = 'cuda' if torch.cuda.is_available() else 'cpu'\n",
        "    device = torch.device(device)\n",
        "    model.to(device)\n",
        "\n",
        "    if optimizer_ctor is None:\n",
        "        optimizer = torch.optim.Adam(model.parameters(), lr=lr, weight_decay=l2_reg_alpha)\n",
        "    else:\n",
        "        optimizer = optimizer_ctor(model.parameters(), lr=lr)\n",
        "\n",
        "    if lr_scheduler_ctor is not None:\n",
        "        lr_scheduler = lr_scheduler_ctor(optimizer)\n",
        "    else:\n",
        "        lr_scheduler = None\n",
        "\n",
        "    train_dataloader = data_loader_ctor(train_dataset, batch_size=batch_size, shuffle=shuffle_train,\n",
        "                                        num_workers=dataloader_workers_n)\n",
        "    val_dataloader = data_loader_ctor(val_dataset, batch_size=batch_size, shuffle=False,\n",
        "                                      num_workers=dataloader_workers_n)\n",
        "\n",
        "    best_val_loss = float('inf')\n",
        "    best_epoch_i = 0\n",
        "    best_model = copy.deepcopy(model)\n",
        "\n",
        "    for epoch_i in range(epoch_n):\n",
        "        try:\n",
        "            epoch_start = datetime.datetime.now()\n",
        "            print('Эпоха {}'.format(epoch_i))\n",
        "\n",
        "            model.train()\n",
        "            mean_train_loss = 0\n",
        "            train_batches_n = 0\n",
        "            for batch_i, (batch_x, batch_y) in enumerate(train_dataloader):\n",
        "                if batch_i > max_batches_per_epoch_train:\n",
        "                    break\n",
        "\n",
        "                batch_x = copy_data_to_device(batch_x, device)\n",
        "                batch_y = copy_data_to_device(batch_y, device)\n",
        "\n",
        "                pred = model(batch_x)\n",
        "                loss = criterion(pred, batch_y)\n",
        "\n",
        "                model.zero_grad()\n",
        "                loss.backward()\n",
        "\n",
        "                optimizer.step()\n",
        "\n",
        "                mean_train_loss += float(loss)\n",
        "                train_batches_n += 1\n",
        "\n",
        "            mean_train_loss /= train_batches_n\n",
        "            print('Эпоха: {} итераций, {:0.2f} сек'.format(train_batches_n,\n",
        "                                                           (datetime.datetime.now() - epoch_start).total_seconds()))\n",
        "            print('Среднее значение функции потерь на обучении', mean_train_loss)\n",
        "\n",
        "\n",
        "\n",
        "            model.eval()\n",
        "            mean_val_loss = 0\n",
        "            val_batches_n = 0\n",
        "\n",
        "            with torch.no_grad():\n",
        "                for batch_i, (batch_x, batch_y) in enumerate(val_dataloader):\n",
        "                    if batch_i > max_batches_per_epoch_val:\n",
        "                        break\n",
        "\n",
        "                    batch_x = copy_data_to_device(batch_x, device)\n",
        "                    batch_y = copy_data_to_device(batch_y, device)\n",
        "\n",
        "                    pred = model(batch_x)\n",
        "                    loss = criterion(pred, batch_y)\n",
        "\n",
        "                    mean_val_loss += float(loss)\n",
        "                    val_batches_n += 1\n",
        "\n",
        "            mean_val_loss /= val_batches_n\n",
        "            print('Среднее значение функции потерь на валидации', mean_val_loss)\n",
        "\n",
        "            if mean_val_loss < best_val_loss:\n",
        "                best_epoch_i = epoch_i\n",
        "                best_val_loss = mean_val_loss\n",
        "                best_model = copy.deepcopy(model)\n",
        "                print('Новая лучшая модель!')\n",
        "            elif epoch_i - best_epoch_i > early_stopping_patience:\n",
        "                print('Модель не улучшилась за последние {} эпох, прекращаем обучение'.format(\n",
        "                    early_stopping_patience))\n",
        "                break\n",
        "\n",
        "            if lr_scheduler is not None:\n",
        "                lr_scheduler.step(mean_val_loss)\n",
        "\n",
        "            print()\n",
        "        except KeyboardInterrupt:\n",
        "            print('Досрочно остановлено пользователем')\n",
        "            break\n",
        "        except Exception as ex:\n",
        "            print('Ошибка при обучении: {}\\n{}'.format(ex, traceback.format_exc()))\n",
        "            break\n",
        "\n",
        "    return best_val_loss, best_model\n",
        "\n",
        "# Функция выполняет прогнозирование с использованием обученной модели на указанном наборе данных\n",
        "def predict_with_model(model, dataset, device=None, batch_size=32, num_workers=0, return_labels=False):\n",
        "    \"\"\"\n",
        "    :param model: torch.nn.Module - обученная модель\n",
        "    :param dataset: torch.utils.data.Dataset - данные для применения модели\n",
        "    :param device: cuda/cpu - устройство, на котором выполнять вычисления\n",
        "    :param batch_size: количество примеров, обрабатываемых моделью за одну итерацию\n",
        "    :return: numpy.array размерности len(dataset) x *\n",
        "    \"\"\"\n",
        "    if device is None:\n",
        "        device = 'cuda' if torch.cuda.is_available() else 'cpu'\n",
        "    results_by_batch = []\n",
        "\n",
        "    device = torch.device(device)\n",
        "    model.to(device)\n",
        "    model.eval()\n",
        "\n",
        "    dataloader = DataLoader(dataset, batch_size=batch_size, shuffle=False, num_workers=num_workers)\n",
        "    labels = []\n",
        "    with torch.no_grad():\n",
        "        import tqdm\n",
        "        for batch_x, batch_y in tqdm.tqdm(dataloader, total=len(dataset)/batch_size):\n",
        "            batch_x = copy_data_to_device(batch_x, device)\n",
        "\n",
        "            if return_labels:\n",
        "                labels.append(batch_y.numpy())\n",
        "\n",
        "            batch_pred = model(batch_x)\n",
        "            results_by_batch.append(batch_pred.detach().cpu().numpy())\n",
        "\n",
        "    if return_labels:\n",
        "        return np.concatenate(results_by_batch, 0), np.concatenate(labels, 0)\n",
        "    else:\n",
        "        return np.concatenate(results_by_batch, 0)"
      ],
      "metadata": {
        "id": "gxCPzAQ26dv6"
      },
      "execution_count": null,
      "outputs": []
    },
    {
      "cell_type": "code",
      "source": [
        "# Функция строит визуализацию векторов. Она принимает векторы (vectors) и метки (labels) в качестве параметров? использует алгоритмы t-SNE или SVD для снижения размерности векторов и отображает результат на плоскости\n",
        "def plot_vectors(vectors, labels, how='tsne', ax=None):\n",
        "    if how == 'tsne':\n",
        "        projections = TSNE().fit_transform(vectors)\n",
        "    elif how == 'svd':\n",
        "        projections = TruncatedSVD().fit_transform(vectors)\n",
        "\n",
        "    x = projections[:, 0]\n",
        "    y = projections[:, 1]\n",
        "\n",
        "    ax.scatter(x, y)\n",
        "    for cur_x, cur_y, cur_label in zip(x, y, labels):\n",
        "        ax.annotate(cur_label, (cur_x, cur_y))"
      ],
      "metadata": {
        "id": "k5DgzfYA6sBz"
      },
      "execution_count": null,
      "outputs": []
    },
    {
      "cell_type": "code",
      "source": [
        "init_random_seed()\n",
        "full_dataset = list(pd.read_csv('/content/filePart.csv')['Предложения'].dropna())\n",
        "#full_dataset = full_dataset * 10\n",
        "random.shuffle(full_dataset)\n",
        "\n",
        "TRAIN_VAL_SPLIT = int(len(full_dataset) * 0.8)\n",
        "train_source = full_dataset[:TRAIN_VAL_SPLIT]\n",
        "test_source = full_dataset[TRAIN_VAL_SPLIT:]\n",
        "print(\"Обучающая выборка\", len(train_source))\n",
        "print(\"Тестовая выборка\", len(test_source))\n",
        "print()\n",
        "print('\\n'.join(train_source[:10]))"
      ],
      "metadata": {
        "id": "cym_Uh_ENNAL",
        "colab": {
          "base_uri": "https://localhost:8080/"
        },
        "outputId": "cdea11e4-a78b-42bf-a445-e197e1255170"
      },
      "execution_count": null,
      "outputs": [
        {
          "output_type": "stream",
          "name": "stdout",
          "text": [
            "Обучающая выборка 944\n",
            "Тестовая выборка 237\n",
            "\n",
            "Однако данный эффект не наблюдался ни при использова-нии ингаляционного будесонида в исследовании EURO-SCOP,  ни  при  использовании  ингаляционного флутиказона пропионата в исследовании TORCH.\n",
            "Бисопролол влиял на параметры внешнего дыхания лучше карведилола.\n",
            "При наличии соответствующих показаний во время тренировки следует использовать различные виды респираторной поддержки.\n",
            "Хроническая обструктивная болезнь легких (ХОБЛ) – это заболевание, при котором нарушается прохождение воздуха по бронхам и попадание кислорода и легкого в кровь.\n",
            "При этом при гриппе и ОРВИ одышка и затрудненное дыхание отмечаются значительно реже, чем при COVID-19.При вирусных гастроэнтеритах ведущим будет поражение желудочно-кишечного тракта (ЖКТ), симптомы поражения дыхательных путей, как правило, выражены минимально.В целом при проведении дифференциальной диагностики необходимо учитывать данные эпидемиологического анамнеза, клинические симптомы и их динамику.\n",
            "В недавно проведенном исследовании при ежедневном приеме азитромицина отмечалась его эффективность в отношении влияния на обострения как конечную точку исследования, однако прием препарата не может быть рекомендован из-за неблагоприятного соотношения предполагаемой пользы и побочных эффектов.\n",
            "Вообще говоря, следует различать отсутствие данных об эффективности терапии и наличие данных о ее неэффективности.Во многих исследованиях критерием включения являлась низкая обратимость ограничения скорости воздушного потока в ответ на введение бронхолитиков.\n",
            "Для пациентов с тяжелой дыхательной недостаточностью при COVID-19, плохой переносимостью физических тренировок из-за тяжести состояния, применение НМЭС улучшает силу верхних и нижних конечностей, уменьшает одышку при физической нагрузке, тем самым сокращая время на восстановление пациента.\n",
            "Однако понятно, что в большинстве стран ХОБЛ служит одной из самых важных причин смерти.\n",
            "При возникновении повторных обострений на терапии комбинацией ДДАХ/ДДБА у пациента без БА и эозинофилии или рецидиве обострений на тройной терапии (ДДАХ/ДДБА/ИГКС), рекомендуется уточнить фенотип ХОБЛ и назначить фенотип-специфическую терапию (рофлумиласт, N-ацетилцистеин, азитромицин и др. Объем бронходилатационной терапии не рекомендуется уменьшать (в отсутствие НЯ) даже в случае максимального облегчения симптомов.\n"
          ]
        }
      ]
    },
    {
      "cell_type": "code",
      "source": [
        "# токенизируем\n",
        "train_tokenized = tokenize_corpus(train_source)\n",
        "test_tokenized = tokenize_corpus(test_source)\n",
        "print('\\n'.join(' '.join(sent) for sent in train_tokenized[:10]))"
      ],
      "metadata": {
        "id": "b-vhNQWaNNUT",
        "colab": {
          "base_uri": "https://localhost:8080/"
        },
        "outputId": "6793d8f9-cb92-4b64-f6ef-643e6c201d38"
      },
      "execution_count": null,
      "outputs": [
        {
          "output_type": "stream",
          "name": "stdout",
          "text": [
            "однако данный эффект наблюдался использова ингаляционного будесонида исследовании euro scop использовании ингаляционного флутиказона пропионата исследовании torch\n",
            "бисопролол влиял параметры внешнего дыхания лучше карведилола\n",
            "наличии соответствующих показаний время тренировки следует использовать различные виды респираторной поддержки\n",
            "хроническая обструктивная болезнь легких хобл заболевание котором нарушается прохождение воздуха бронхам попадание кислорода легкого кровь\n",
            "этом гриппе орви одышка затрудненное дыхание отмечаются значительно реже covid вирусных гастроэнтеритах ведущим будет поражение желудочно кишечного тракта симптомы поражения дыхательных путей правило выражены минимально целом проведении дифференциальной диагностики необходимо учитывать данные эпидемиологического анамнеза клинические симптомы динамику\n",
            "недавно проведенном исследовании ежедневном приеме азитромицина отмечалась эффективность отношении влияния обострения конечную точку исследования однако прием препарата может быть рекомендован неблагоприятного соотношения предполагаемой пользы побочных эффектов\n",
            "вообще говоря следует различать отсутствие данных эффективности терапии наличие данных неэффективности многих исследованиях критерием включения являлась низкая обратимость ограничения скорости воздушного потока ответ введение бронхолитиков\n",
            "пациентов тяжелой дыхательной недостаточностью covid плохой переносимостью физических тренировок тяжести состояния применение нмэс улучшает силу верхних нижних конечностей уменьшает одышку физической нагрузке самым сокращая время восстановление пациента\n",
            "однако понятно большинстве стран хобл служит одной самых важных причин смерти\n",
            "возникновении повторных обострений терапии комбинацией ддах ддба пациента эозинофилии рецидиве обострений тройной терапии ддах ддба игкс рекомендуется уточнить фенотип хобл назначить фенотип специфическую терапию рофлумиласт ацетилцистеин азитромицин объем бронходилатационной терапии рекомендуется уменьшать отсутствие даже случае максимального облегчения симптомов\n"
          ]
        }
      ]
    },
    {
      "cell_type": "code",
      "source": [
        "# строим словарь\n",
        "vocabulary, word_doc_freq = build_vocabulary(train_tokenized, max_doc_freq=0.9, min_count=5, pad_word='<PAD>')\n",
        "print(\"Размер словаря\", len(vocabulary))\n",
        "print(list(vocabulary.items())[:10])"
      ],
      "metadata": {
        "id": "4-7GHbPqNNhi",
        "colab": {
          "base_uri": "https://localhost:8080/"
        },
        "outputId": "1384f921-e549-4e57-bb26-4ab9767e3d8b"
      },
      "execution_count": null,
      "outputs": [
        {
          "output_type": "stream",
          "name": "stdout",
          "text": [
            "Размер словаря 1201\n",
            "[('<PAD>', 0), ('хобл', 1), ('пациентов', 2), ('легких', 3), ('может', 4), ('является', 5), ('рекомендуется', 6), ('заболевания', 7), ('более', 8), ('также', 9)]\n"
          ]
        }
      ]
    },
    {
      "cell_type": "code",
      "source": [
        "# отображаем в номера токенов\n",
        "train_token_ids = texts_to_token_ids(train_tokenized, vocabulary)\n",
        "test_token_ids = texts_to_token_ids(test_tokenized, vocabulary)\n",
        "\n",
        "print('\\n'.join(' '.join(str(t) for t in sent)\n",
        "                for sent in train_token_ids[:10]))"
      ],
      "metadata": {
        "id": "GrZ3V8KoNp3a",
        "colab": {
          "base_uri": "https://localhost:8080/"
        },
        "outputId": "4f29c169-9339-405f-9756-4e3e4e578fa1"
      },
      "execution_count": null,
      "outputs": [
        {
          "output_type": "stream",
          "name": "stdout",
          "text": [
            "21 566 286 947 189 339 947 189\n",
            "948 110 760\n",
            "40 949 16 340 15 141 950 170 190\n",
            "657 761 250 3 1 133 486 111 112 118\n",
            "155 659 113 489 222 567 59 951 762 96 312 28 85 341 658 409 223 71 53 487 95 488 313 96\n",
            "763 189 251 660 253 25 60 21 568 156 4 14 952 490 252\n",
            "15 157 45 103 20 97 45 953 205 76 569 171 81 54 44 410 570 254\n",
            "2 86 41 366 59 956 958 342 959 46 55 37 957 491 661 411 955 662 314 29 224 954 16 23\n",
            "21 412 1 571 492 343 134\n",
            "663 13 20 173 147 23 13 20 173 147 119 6 1 414 493 764 960 315 20 6 157 413 172 961 962 22\n"
          ]
        }
      ]
    },
    {
      "cell_type": "code",
      "source": [
        "plt.hist([len(s) for s in train_token_ids], bins=20);\n",
        "plt.title('Гистограмма длин предложений');"
      ],
      "metadata": {
        "id": "JF3EdF4HNpj6",
        "colab": {
          "base_uri": "https://localhost:8080/",
          "height": 452
        },
        "outputId": "27ebed76-9379-4f65-805e-4cba6c27e1d2"
      },
      "execution_count": null,
      "outputs": [
        {
          "output_type": "display_data",
          "data": {
            "text/plain": [
              "<Figure size 640x480 with 1 Axes>"
            ],
            "image/png": "[encoded data removed]"
          },
          "metadata": {}
        }
      ]
    },
    {
      "cell_type": "code",
      "source": [
        "MAX_SENTENCE_LEN = 20\n",
        "train_dataset = PaddedSequenceDataset(train_token_ids,\n",
        "                                      np.zeros(len(train_token_ids)),\n",
        "                                      out_len=MAX_SENTENCE_LEN)\n",
        "test_dataset = PaddedSequenceDataset(test_token_ids,\n",
        "                                     np.zeros(len(test_token_ids)),\n",
        "                                     out_len=MAX_SENTENCE_LEN)\n",
        "print(train_dataset[0])"
      ],
      "metadata": {
        "id": "b1JtkEoRN1uT",
        "colab": {
          "base_uri": "https://localhost:8080/"
        },
        "outputId": "28baf1dc-02eb-43dc-ebbe-8ceab99acb9e"
      },
      "execution_count": null,
      "outputs": [
        {
          "output_type": "stream",
          "name": "stdout",
          "text": [
            "(tensor([ 21, 566, 286, 947, 189, 339, 947, 189,   0,   0,   0,   0,   0,   0,\n",
            "          0,   0,   0,   0,   0,   0]), tensor(0))\n"
          ]
        }
      ]
    },
    {
      "cell_type": "code",
      "source": [
        "# Функция создает диагональную матрицу-маску\n",
        "def make_diag_mask(size, radius):\n",
        "    \"\"\"Квадратная матрица размера Size x Size с двумя полосами ширины radius вдоль главной диагонали\"\"\"\n",
        "    idxs = torch.arange(size)\n",
        "    abs_idx_diff = (idxs.unsqueeze(0) - idxs.unsqueeze(1)).abs()\n",
        "    mask = ((abs_idx_diff <= radius) & (abs_idx_diff > 0)).float()\n",
        "    return mask\n",
        "\n",
        "make_diag_mask(10, 3)"
      ],
      "metadata": {
        "id": "c4AZ-ei9N2DS",
        "colab": {
          "base_uri": "https://localhost:8080/"
        },
        "outputId": "e16cbe23-eb02-42ad-b388-7a99eea74b03"
      },
      "execution_count": null,
      "outputs": [
        {
          "output_type": "execute_result",
          "data": {
            "text/plain": [
              "tensor([[0., 1., 1., 1., 0., 0., 0., 0., 0., 0.],\n",
              "        [1., 0., 1., 1., 1., 0., 0., 0., 0., 0.],\n",
              "        [1., 1., 0., 1., 1., 1., 0., 0., 0., 0.],\n",
              "        [1., 1., 1., 0., 1., 1., 1., 0., 0., 0.],\n",
              "        [0., 1., 1., 1., 0., 1., 1., 1., 0., 0.],\n",
              "        [0., 0., 1., 1., 1., 0., 1., 1., 1., 0.],\n",
              "        [0., 0., 0., 1., 1., 1., 0., 1., 1., 1.],\n",
              "        [0., 0., 0., 0., 1., 1., 1., 0., 1., 1.],\n",
              "        [0., 0., 0., 0., 0., 1., 1., 1., 0., 1.],\n",
              "        [0., 0., 0., 0., 0., 0., 1., 1., 1., 0.]])"
            ]
          },
          "metadata": {},
          "execution_count": 24
        }
      ]
    },
    {
      "cell_type": "code",
      "source": [
        "\n",
        "class SkipGramNegativeSamplingTrainer(nn.Module):\n",
        "    def __init__(self, vocab_size, emb_size, sentence_len, radius=5, negative_samples_n=5):\n",
        "        super().__init__()\n",
        "        self.vocab_size = vocab_size\n",
        "        self.negative_samples_n = negative_samples_n\n",
        "\n",
        "        self.center_emb = nn.Embedding(self.vocab_size, emb_size, padding_idx=0)\n",
        "        self.center_emb.weight.data.uniform_(-1.0 / emb_size, 1.0 / emb_size)\n",
        "        self.center_emb.weight.data[0] = 0\n",
        "\n",
        "        self.context_emb = nn.Embedding(self.vocab_size, emb_size, padding_idx=0)\n",
        "        self.context_emb.weight.data.uniform_(-1.0 / emb_size, 1.0 / emb_size)\n",
        "        self.context_emb.weight.data[0] = 0\n",
        "\n",
        "        self.positive_sim_mask = make_diag_mask(sentence_len, radius)\n",
        "\n",
        "    def forward(self, sentences):\n",
        "        \"\"\"sentences - Batch x MaxSentLength - идентификаторы токенов\"\"\"\n",
        "        batch_size = sentences.shape[0]\n",
        "        center_embeddings = self.center_emb(sentences)  # Batch x MaxSentLength x EmbSize\n",
        "\n",
        "        # оценить сходство с настоящими соседними словами\n",
        "        positive_context_embs = self.context_emb(sentences).permute(0, 2, 1)  # Batch x EmbSize x MaxSentLength\n",
        "        positive_sims = torch.bmm(center_embeddings, positive_context_embs)  # Batch x MaxSentLength x MaxSentLength\n",
        "        positive_probs = torch.sigmoid(positive_sims)\n",
        "\n",
        "        # увеличить оценку вероятности встретить эти пары слов вместе\n",
        "        positive_mask = self.positive_sim_mask.to(positive_sims.device)\n",
        "        positive_loss = F.binary_cross_entropy(positive_probs * positive_mask,\n",
        "                                               positive_mask.expand_as(positive_probs))\n",
        "\n",
        "        # выбрать случайные \"отрицательные\" слова\n",
        "        negative_words = torch.randint(1, self.vocab_size,\n",
        "                                       size=(batch_size, self.negative_samples_n),\n",
        "                                       device=sentences.device)  # Batch x NegSamplesN\n",
        "        negative_context_embs = self.context_emb(negative_words).permute(0, 2, 1)  # Batch x EmbSize x NegSamplesN\n",
        "        negative_sims = torch.bmm(center_embeddings, negative_context_embs)  # Batch x MaxSentLength x NegSamplesN\n",
        "\n",
        "        # уменьшить оценку вероятность встретить эти пары слов вместе\n",
        "        negative_loss = F.binary_cross_entropy_with_logits(negative_sims,\n",
        "                                                           negative_sims.new_zeros(negative_sims.shape))\n",
        "\n",
        "        return positive_loss + negative_loss\n",
        "\n",
        "\n",
        "def no_loss(pred, target):\n",
        "    \"\"\"Фиктивная функция потерь - когда модель сама считает функцию потерь\"\"\"\n",
        "    return pred"
      ],
      "metadata": {
        "id": "I9UBuQSQN9Zb"
      },
      "execution_count": null,
      "outputs": []
    },
    {
      "cell_type": "markdown",
      "source": [
        "# Обучение модели"
      ],
      "metadata": {
        "id": "wIvekqXdPUGK"
      }
    },
    {
      "cell_type": "code",
      "source": [
        "#Обучение\n",
        "trainer = SkipGramNegativeSamplingTrainer(len(vocabulary), 100, MAX_SENTENCE_LEN,\n",
        "                                          radius=5, negative_samples_n=25)"
      ],
      "metadata": {
        "id": "uRIY021aN9DL"
      },
      "execution_count": null,
      "outputs": []
    },
    {
      "cell_type": "code",
      "source": [
        "best_val_loss, best_model = train_eval_loop(trainer,\n",
        "                                            train_dataset,\n",
        "                                            test_dataset,\n",
        "                                            no_loss,\n",
        "                                            lr=1e-2,\n",
        "                                            epoch_n=5,\n",
        "                                            batch_size=8,\n",
        "                                            device='cpu',\n",
        "                                            early_stopping_patience=10,\n",
        "                                            max_batches_per_epoch_train=2000,\n",
        "                                            max_batches_per_epoch_val=len(test_dataset),\n",
        "                                            lr_scheduler_ctor=lambda optim: torch.optim.lr_scheduler.ReduceLROnPlateau(optim, patience=1, verbose=True))"
      ],
      "metadata": {
        "id": "VtcK4FPQOe8v",
        "colab": {
          "base_uri": "https://localhost:8080/"
        },
        "outputId": "29c069d3-3a52-4142-95f6-2f1640361d8e"
      },
      "execution_count": null,
      "outputs": [
        {
          "output_type": "stream",
          "name": "stdout",
          "text": [
            "Эпоха 0\n",
            "Эпоха: 118 итераций, 0.58 сек\n",
            "Среднее значение функции потерь на обучении 0.9036612354092679\n",
            "Среднее значение функции потерь на валидации 0.8392139832178752\n",
            "Новая лучшая модель!\n",
            "\n",
            "Эпоха 1\n",
            "Эпоха: 118 итераций, 0.57 сек\n",
            "Среднее значение функции потерь на обучении 0.8341923265133874\n",
            "Среднее значение функции потерь на валидации 0.8322254240512847\n",
            "Новая лучшая модель!\n",
            "\n",
            "Эпоха 2\n",
            "Эпоха: 118 итераций, 0.57 сек\n",
            "Среднее значение функции потерь на обучении 0.802018231759637\n",
            "Среднее значение функции потерь на валидации 0.8254862070083618\n",
            "Новая лучшая модель!\n",
            "\n",
            "Эпоха 3\n",
            "Эпоха: 118 итераций, 0.59 сек\n",
            "Среднее значение функции потерь на обучении 0.768842997187275\n",
            "Среднее значение функции потерь на валидации 0.8383262097835541\n",
            "\n",
            "Эпоха 4\n",
            "Эпоха: 118 итераций, 0.71 сек\n",
            "Среднее значение функции потерь на обучении 0.7380912223104703\n",
            "Среднее значение функции потерь на валидации 0.8473722000916799\n",
            "Epoch 00005: reducing learning rate of group 0 to 1.0000e-03.\n",
            "\n"
          ]
        }
      ]
    },
    {
      "cell_type": "code",
      "source": [
        "# Если Вы запускаете ноутбук на colab или kaggle, добавьте в начало пути ./stepik-dl-nlp\n",
        "torch.save(trainer.state_dict(), '/content/sgnsCommon.pth')"
      ],
      "metadata": {
        "id": "NHQgflkNOmRK"
      },
      "execution_count": null,
      "outputs": []
    },
    {
      "cell_type": "code",
      "source": [
        "# Если Вы запускаете ноутбук на colab или kaggle, добавьте в начало пути ./stepik-dl-nlp\n",
        "trainer.load_state_dict(torch.load('/content/sgnsCommon.pth'))"
      ],
      "metadata": {
        "id": "GF1l_7aiO0fB",
        "colab": {
          "base_uri": "https://localhost:8080/"
        },
        "outputId": "4a653c62-3595-4d27-c4cb-3362736c4237"
      },
      "execution_count": null,
      "outputs": [
        {
          "output_type": "execute_result",
          "data": {
            "text/plain": [
              "<All keys matched successfully>"
            ]
          },
          "metadata": {},
          "execution_count": 29
        }
      ]
    },
    {
      "cell_type": "markdown",
      "source": [
        "# Тестирование"
      ],
      "metadata": {
        "id": "Juhphm3_O85J"
      }
    },
    {
      "cell_type": "code",
      "source": [
        "embeddings = Embeddings(trainer.center_emb.weight.detach().cpu().numpy(), vocabulary)"
      ],
      "metadata": {
        "id": "lT8cpOpeOl5p"
      },
      "execution_count": null,
      "outputs": []
    },
    {
      "cell_type": "code",
      "source": [
        "embeddings.most_similar('пневмония')"
      ],
      "metadata": {
        "id": "btuhZHvaO8aC",
        "colab": {
          "base_uri": "https://localhost:8080/"
        },
        "outputId": "f5d6475b-56f9-4a42-decc-8ec4a938427d"
      },
      "execution_count": null,
      "outputs": [
        {
          "output_type": "execute_result",
          "data": {
            "text/plain": [
              "[('пневмония', 0.9999372),\n",
              " ('лихорадка', 0.6006356),\n",
              " ('проявления', 0.50886124),\n",
              " ('выше', 0.5041805),\n",
              " ('пневмонии', 0.49982908),\n",
              " ('респираторного', 0.49835402),\n",
              " ('особенности', 0.4797008),\n",
              " ('часа', 0.46723208),\n",
              " ('жалоб', 0.4651318),\n",
              " ('эпителия', 0.46473628)]"
            ]
          },
          "metadata": {},
          "execution_count": 31
        }
      ]
    },
    {
      "cell_type": "code",
      "source": [
        "test_words = ['хобл', 'пневмония', 'острый', 'пациент', 'эмфизема', 'аспирации', 'инфекций', 'причины']\n",
        "test_vectors = embeddings.get_vectors(*test_words)\n",
        "print(test_vectors.shape)"
      ],
      "metadata": {
        "id": "oaPWKsKpO8HR",
        "colab": {
          "base_uri": "https://localhost:8080/"
        },
        "outputId": "793668c8-2934-4d8a-e27f-8c5587c7c71a"
      },
      "execution_count": null,
      "outputs": [
        {
          "output_type": "stream",
          "name": "stdout",
          "text": [
            "(8, 100)\n"
          ]
        }
      ]
    },
    {
      "cell_type": "code",
      "source": [
        "fig, ax = plt.subplots()\n",
        "fig.set_size_inches((10, 10))\n",
        "plot_vectors(test_vectors, test_words, how='svd', ax=ax)"
      ],
      "metadata": {
        "id": "w_1jCUxpuIx3",
        "colab": {
          "base_uri": "https://localhost:8080/",
          "height": 830
        },
        "outputId": "b513ff5e-5c0d-4fe7-c78e-8b92b121e8ff"
      },
      "execution_count": null,
      "outputs": [
        {
          "output_type": "display_data",
          "data": {
            "text/plain": [
              "<Figure size 1000x1000 with 1 Axes>"
            ],
            "image/png": "[encoded data removed]"
          },
          "metadata": {}
        }
      ]
    },
    {
      "cell_type": "markdown",
      "source": [
        "# Поиск по запросу"
      ],
      "metadata": {
        "id": "WHP9RFEnvOGl"
      }
    },
    {
      "cell_type": "code",
      "source": [
        "dataFull = pd.read_csv('/content/fileFull.csv')"
      ],
      "metadata": {
        "id": "6TpdeTK7vTzT"
      },
      "execution_count": null,
      "outputs": []
    },
    {
      "cell_type": "code",
      "source": [
        "# Функция ищет предложения в фрейме данных, содержащие все слова из заданного запроса (query).\n",
        "def search_sentences(query):\n",
        "    found_sentences = []\n",
        "    for index, row in dataFull.iterrows():\n",
        "        if all(word in row['Нормализованный текст'] for word in query):\n",
        "            found_sentences.append(row['Предложения'])\n",
        "\n",
        "    if found_sentences:\n",
        "        return found_sentences\n",
        "    else:\n",
        "        return \"К сожалению, информация не найдена\""
      ],
      "metadata": {
        "id": "I7YRs-pUvTrM"
      },
      "execution_count": null,
      "outputs": []
    },
    {
      "cell_type": "code",
      "source": [
        "# Ввод списка входных данных\n",
        "input_diagnosis = input(\"Введите диагноз: \")\n",
        "#input_words =[str(input_diagnosis)]\n",
        "input_severity = input(\"Введите степень тяжести (легкая, средняя, тяжелая, крайне тяжелая) / Пропуск Enter: \")\n",
        "if input_severity != (\"Не выбрано\" and \"\"):\n",
        "  input_severity = input_severity + \" тяжесть\"\n",
        "  #input_words.append(\"тяжесть\")\n",
        "input_add = input(\"Дополнительно поиск по ключевым словам: \")\n",
        "#if (input_add != ''):\n",
        "  #input_words.append(str(input_add))\n",
        "input_words =input_diagnosis +\" \" +input_severity +\" \"+ input_add\n",
        "input_words= process_sentence(input_words)\n",
        "try:\n",
        "  neighboring_words = embeddings.most_similar(input_diagnosis)\n",
        "except ValueError:\n",
        "  neighboring_words = []\n",
        "if neighboring_words != []:\n",
        "  post_neighboring_words = []\n",
        "  for i in neighboring_words:\n",
        "    if (i[1] > 0.7):\n",
        "      post_neighboring_words.append(i[0])\n",
        "  print(post_neighboring_words)\n",
        "print(input_words)"
      ],
      "metadata": {
        "id": "prM_bHvtvmST",
        "colab": {
          "base_uri": "https://localhost:8080/"
        },
        "outputId": "c587c482-2719-454c-d29d-1c930a3b81ee"
      },
      "execution_count": null,
      "outputs": [
        {
          "output_type": "stream",
          "name": "stdout",
          "text": [
            "Введите диагноз: бронхит\n",
            "Введите степень тяжести (легкая, средняя, тяжелая, крайне тяжелая) / Пропуск Enter: легкая\n",
            "Дополнительно поиск по ключевым словам: \n",
            "['бронхит', 'продукция', 'хронический', 'протяжении', 'собой']\n",
            "['бронхит', 'лёгкий', 'тяжесть']\n"
          ]
        }
      ]
    },
    {
      "cell_type": "code",
      "source": [
        "# Поиск совпадений во всем фрейме данных\n",
        "matches_found = False\n",
        "advice = []\n",
        "for index, row in dataFull.iterrows():\n",
        "    if all(word in row['Нормализованный текст'] for word in input_words):\n",
        "        advice.append(str(row['Предложения']))\n",
        "        matches_found = True\n",
        "if neighboring_words != []:\n",
        "  for index, row in dataFull.iterrows():\n",
        "     if all(word in row['Нормализованный текст'] for word in post_neighboring_words):\n",
        "          advice.append(str(row['Предложения']))\n",
        "          matches_found = True\n",
        "\n",
        "if not matches_found:\n",
        "    print(\"К сожалению, информация не найдена\")"
      ],
      "metadata": {
        "id": "rrwHAmfzvmH8"
      },
      "execution_count": null,
      "outputs": []
    },
    {
      "cell_type": "code",
      "source": [
        "(list(set(advice)))\n",
        "for i in advice:\n",
        "  print(i)"
      ],
      "metadata": {
        "id": "h0EVMgBAvTTj",
        "colab": {
          "base_uri": "https://localhost:8080/"
        },
        "outputId": "039351ac-3000-457c-b452-be7ebeef4aa0"
      },
      "execution_count": null,
      "outputs": [
        {
          "output_type": "stream",
          "name": "stdout",
          "text": [
            "Лечение проводится преимущественно амбулаторно и базируется на определении группы пациента – А, B, С, или D.Лечение стабильной ХОБЛНемедикаментозное лечение ХОБЛ: отказ от курения; физическая активность; реабилитация; вакцинация;Медикаментозное лечение ХОБЛ; Общим подходом к лечению ХОБЛ стабильного течения является ступенчатый принцип усиления терапии в зависимости от тяжести и варианта заболевания.Критерии эффективности лечения стабильной ХОБЛ: Повышение качества жизни больного; Замедление прогрессирования заболевания; Снижение количества обострений; Сохранение функции легких; Сохранение трудоспособности больного.Лечение обострения ХОБЛ в амбулаторных условиях:1) Бронхорасширяющие препараты; Увеличение частоты или дозы принимаемого препарата или добавление бронхолитического препарата другой группы; Для повышения эффективности препаратов рекомендуется их прием с помощью небулайзера или спейсера;2) Глюкокортикоиды; Перорально 30–40мг/сут преднизолона в течение 5 дней с последующей полной одномоментной отменой, показано если: – исходная ОФВ1<50% должного; – исходная ОФВ1>50% должного, при наличии тяжелого обострения с выраженной симптоматикой, в том числе, по данным mMRS и САТ–теста;3) Антибактериальная терапия при обострении ХОБЛ назначается при наличии трех признаков гнойного бактериального воспаления в бронхиальном дереве (1 – появление гнойной мокроты; 2 – увеличение ее количества; 3 – усиление одышки); или при наличии двух признаков, один из которых – гнойность мокроты; применяют антибиотики широкого спектра действия.Показания к госпитализации при ХОБЛ: Тяжелое обострение ХОБЛ (развитие одышки в покое), которое не отвечает на увеличение дозы короткодействующих бронходилататоров; ОДН (признаки гипоксемии, SaO2<=88%); ХОБЛ тяжелого течения в фазе обострения с прогрессированием декомпенсированного легочного сердца (например, присоединение цианоза, периферических отеков, впервые появившиеся сердечные аритмии); Серьезные сопутствующие заболевания, возраст старше 65 лет; Сомнения в диагнозе; Выявление признаков ЛАГ (ЛАДср > 30 мм рт ст по данным ЭХОКГ) является основанием для направления пациента в специализированный центр с целью подбора терапии.Лечение обострения ХОБЛ в стационаре: Бронходилататоры с повышением дозировки и кратности приема; Растворы Ипратропия бромида – 0,5 мг (2 мл: 40 капель) через небулайзер с кислородом в сочетании с растворами Сальбутамола (2,5–5,0 мг) или Фенотерола – 0,5–1,0 мг (0,5–1,0 мл: 10–20 капель); Глюкокортикостероиды: внутрь 30–40 мг/сут; Преднизолон в течение 5 дней, при невозможности приема внутрь – парентерально до 3 мг/кг/сут; Антибактериальная терапия назначается при признаках бактериальной инфекции (показания – см Лечение обострения ХОБЛ в амбулаторных условиях); препаратами выбора являются Амоксициллина клавуланат, цефалоспорины II–III поколения; Ингаляции кислорода, если насыщение крови кислородом менее 90%; Неинвазивная вентиляция легких – показана при: тяжелой одышке с клиническими признаками усталости дыхательных мышц (использование вспомогательных дыхательных мышц, парадоксальное втяжение живота или втяжение межреберных промежутков), pH<= 7,35 (артериальная кровь) или CO2 => 45 mmHg; Искусственная вентиляция легких показана при: неэффективности неинвазивной вентиляции легких, угрожающей жизни гипоксемии (РаО2 < 40 мм рт ст), гиперкапнии (РаСО2 > 60 мм рт ст), остановке дыхания, нарушении сознания, психомоторном возбуждении, не контролируемом седативными препаратами, массивной аспирации, сердечно–сосудистых осложнениях (гипотензия, шок, сердечная недостаточность), не поддающихся коррекции вазоактивными препаратами, тяжелых желудочковых аритмиях, других осложнениях (сепсис, пневмония, ТЭЛА, баротравма, массивный плевральный выпот).Первичная профилактика ХОБЛ включает здоровый образ жизни, прекращение курения, исключение влияния пассивного курения, а также различных атмосферных и домашних поллютантов, производственных вредностей; Вторичная профилактика заключается в раннем выявлении и своевременном лечении ХОБЛ.Классификация эмфиземы легких: Эмфизема легких подразделяется на первичную или врожденную, развивающуюся как самостоятельная патология, и вторичную, возникшую на фоне других заболеваний легких (чаще бронхита с обструктивным синдромом); по степени распространенности в легочной ткани выделяют локализованную и диффузную формы эмфиземы легких; по степени вовлечения в патологический процесс ацинуса (структурно–функциональной единицы легких, обеспечивающей газообмен, и состоящей из разветвления терминальной бронхиолы с альвеолярными ходами, альвеолярными мешками и альвеолами) различают следующие виды эмфиземы легких: проксимальная ацинарная эмфизема (центроацинарная), включающая в себя центролобулярную и фокальную формы; дистальная ацинарная (парасептальная) эмфизема; панацинарная эмфизема; буллезную (при наличии булл); Особо выделяют врожденную долевую (лобарную) эмфизему легких и синдром Маклеода – эмфизему с неясной этиологией, поражающую одно легкое.Ведущим симптомом эмфиземы легких является экспираторная одышка с затрудненным выдохом воздуха; Одышка носит прогрессирующий характер, возникая сначала при нагрузке, а затем и в спокойном состоянии, и зависит от степени дыхательной недостаточности; Пациенты с эмфиземой легких делают выдох через сомкнутые губы, одновременно надувая щеки (как бы «пыхтят»); Одышке сопутствует кашель с выделением скудной слизистой мокроты; О выраженной степени дыхательной недостаточности свидетельствуют цианоз, одутловатость лица, набухание вен шеи.Пациенты с эмфиземой легких значительно теряют в весе, имеют кахектичный вид; Потеря массы тела при эмфиземе легких объясняется большими энергозатратами, расходуемыми на интенсивную работу дыхательных мышц; при буллезной форме эмфиземы легких возникают повторные эпизоды спонтанного пневмоторакса.У лиц с дефицитом А1АТ одышка развивается к возрасту 35– 40 лет, повышается прозрачность легочных полей (особенно нижних участков) вследствие обструктивных изменений и эмфиземы, признаков хронического бронхита; Курение, вдыхание пыли и дыма, а также повторные легочные инфекции ускоряют процесс; У лиц с полным отсутствием А1АТ эмфизема развивается в 100 % случаев, при низком уровне – в 60–85 %.С помощью КТ легких уточняется наличие и расположение булл при буллезной эмфиземе легких.\n",
            "Частое поверхностное дыхание, отставание в дыхании пораженной половины грудной клетки; Перкуторно ясный легочной звук, снижение экскурсии нижнего края легкого на стороне поражения; При аускультации везикулярное, ослабленное дыхание, шум трения плевры, который возникает вследствие трения париетального и висцерального листков плевры, в начале напоминающий крепитацию, далее похожим на хруст снега.Отличительные черты шума трения плевры: выслушивается как при вдохе, так и на выдохе; воспринимается как прерывистые, следующие друг за другом звуки разнообразного характера; при надавливании стетоскопом на межреберный промежуток шум трения плевры усиливается; не изменяется при кашле; слышится на расстоянии; можно выслушать при имитации дыхательных движений при сомкнутой голосовой щели (маневр Вальсальвы).Выпотной (экссудативный) плеврит: Начинается в большинстве случаев с симптомов фибринозного (сухого) плеврита; Однако вскоре клиническая картина меняется; Температура тела повышается до фебрильных цифр и сопровождается ознобами, профузным потом, симптомами нарастающей интоксикации; По мере накопления экссудата и расхождения листков плевры острые интенсивные боли в грудной клетке уменьшаются или исчезают совсем; При этом больные нередко испытывают чувство тяжести в пораженной половине грудной клетки и жалуются на ощущение «не расправляющегося легкого»; По мере накопления экссудата в клинической картине на первый план начинают выступать признаки нарастающей дыхательной недостаточности и смещения средостения и трахеи; У больных появляется одышка, вначале при незначительной физической нагрузке, а затем и в покое; Многих больных выпотным плевритом беспокоит рефлекторный непродуктивный сухой болезненный кашель, обусловленный поражением плевры и смещения трахеи.Лечение плеврита зависит от этиологии и характера процесса;Этиотропное и патогенетическое лечение может включать следующее: Антибактериальная терапия; Дезинтоксикационная терапия в сочетании с форсированным диурезом; Показаны внутривенные инфузии изотонических растворов солей, 5–10% раствора глюкозы, а также низкомолекулярных растворов (реополиглюкин); Форсированный диурез обеспечивается внутривенным введением салуретиков и мочегонных; Коррекция нарушения белкового обмена; Назначают полноценное питание с повышенным содержанием белка; При тяжелом состоянии больного вводят 150 мл 10% раствора альбумина, 200–400 мл нативной плазмы; Противовоспалительное и гипосенсибилизирующее лечение; Используют НПВП, при наличии гиперергической реакции плевры – глюкокортикостероиды в дозе 30–40 мг коротким курсом; Местное хирургическое лечение, направленное на удаление гнойно–воспалительного экссудата, санацию плевральной полости, уменьшение плевральных сращений и недопущение облитерации полости плевры.Механизмы развития воспаления/ фиброза: В процессах воспаления и репарации принимают участие многие клетки: альвеолярные макрофаги, нейтрофилы, эозинофилы, тучные клетки и др; Считается, что центральной клеткой воспаления при альвеолитах является альвеолярный макрофаг; Макрофаги способны высвобождать хемоатрактанты для нейтрофилов, включая лейкотриен В4 и интерлейкин–8, факторы роста (тромбоцитарный фактор роста, инсулиноподобный фактор роста–1, трансформирующий фактор роста–b, фибронектин, стимулировать секреторную активность фибробластов и нейтрофилов, высвобождать кислородные радикалы, играющие важнейшую роль в повреждении паренхимы; Регенерирующие эпителиальные клетки способны продуцировать фиброгенные факторы: трансформирующий фактор, фактор некроза опухоли; Реэпителизация происходит, в основном, за счет альвеолоцитов 2–го типа, что является одной из характерных морфологических особенностей фиброзирующего альвеолита.Факторы риска ИФА: курение, внешнесредовые ингаляционные воздействия, вирусная инфекция, гастро–эзофагеальный рефлюкс (ГЭР), сахарный диабет, генетические факторы.Клиническая картина ИФА не имеет патогномоничных признаков: Заболевание чаще всего встречается у пациентов в возрасте от 40 до 70 лет; Отмечается преобладание заболевания у мужчин, соотношение полов составляло 1,9 : 1; 1,7 : 1 в пользу мужчин;Основные жалобы: одышка и непродуктивный кашель; По мере развития заболевания отмечается нарастание одышки, вплоть до полной инвалидизации больного: из–за одышки больной не способен произнести фразу, предложение, не может ходить, обслуживать себя; Начало болезни, как правило, незаметное и постепенное; Другими симптомами может быть общая слабость, артралгии, миалгии, снижение массы тела, изменение ногтевых фаланг (в виде “барабанных палочек”); Артриты и артралгии, чаще встречаются у женщин, чем у мужчин (в 23,7 и 16,6% случаев соответственно); Симптом «барабанных палочек», наоборот, преобладает у мужчин и встречается в 40 – 72%;Характерным аускультативным феноменом при ИФА является крепитация, которую сравнивают с «треском целлофана» или обозначают как хрипы «velcro»; Наиболее часто хрипы выслушивают в заднебазальных отделах, хотя в 1/5 всех случаев крепитацию можно прослушать и в верхних отделах; Крепитация при ИФА более нежная (fine crackles), выслушивается на высоте вдоха, т;е; в конечноинспираторную фазу; Экспираторная крепитация может быть признаком прогрессирования заболевания; Сухие хрипы могут быть слышны у 5 – 10% больных и обычно появляются при сопутствующем бронхите; До 50% всех пациентов имеют тахипное;По мере прогрессирования заболевания появляются признаки дыхательнойнедостаточности и легочного сердца: диффузный серо–пепельный цианоз, усиление 2–го тона над легочной артерией, тахикардия, ритм галопа, набухание шейных вен, периферические отеки; Снижение массы тела больных вплоть до кахексии.Лечение ИФА:1) Обучение больного – объяснение пациентам сути данного заболевания, обсуждение планов и результатов лечения, также мер по улучшению качества жизни; 2) Устранение факторов риска; 3) Лекарственная терапия: Противовоспалительная терапия (кортикостероиды и цитостатики); Антиоксидантная терапия (Nацетилцистеин); Терапия осложнений (ГКС, Пирфенидон); Регулярная вакцинация противогриппозными и антипневмококковыми вакцинами – рекомендовано всем больным с ИФА;4) Трансплантация легких;Глюкокортикостероиды: Монотерапия с преднизолоном в дозе 1 мг/кг массы тела (до 120 мг/сут) коротким курсом до 14 дней рекомендуется при обострении ИФА, когда преобладает воспалительный компонент;Цитостатики – препараты 2-й линии:Циклофасфамид: per os в дозе 2 мг/кг, но не более 200 мг/сут ИлиАзатиоприн: per os в дозе 1–3 мг/кг в сут Начальная доза 50–100 мг/сут, с  последующим повышением на 25–50 мг каждые 2–4 недели до оптимальной;Антифиброзная терапия:Пирфенидон – начинать с 1 таб (200 мг) х 3 раза в день после еды, в среднем 40 мг/кг; Через 2 недели дозу можно увеличить на 200 мг на один прием, доведя до 600 мг за один прием, максимально 2400 мг в день в трех равных дозах; При развитии осложнений дозу снижают до 1 таб х 3 раза в день с постепенным увеличением дозы по схеме;Антиоксидантная терапия:N–Ацетилцистеин в суточной дозе 1800 мг может применяться у определенной части больных со стабильным и умеренным течением ИФА;Трансплантация легких:Трансплантация легких является единственным методом, улучшающим выживаемость при ИФА, особенно у пациентов, плохо отвечающих на медикаментозную терапию; Пятилетняя выживаемость больных с ИФА после трансплантации легких составляет от 50 до 56%;Прогноз: Выживаемость пациентов с момента постановки диагноза в среднем 3–5 лет; Прогноз значительно лучше у пациентов с фиброзирующим альвеолитом на фоне ДЗСТ.\n",
            "Неинвазивная вспомогательная вентиляция постоянным положительным давлением в дыхательных путях – СРАР-терапия – основной и самый эффективный метод лечения СОАС.Метод лечения СОАС посредством создания постоянного положительного давления в дыхательных путях – СРАР – аббревиатура от английских слов Continuous Positive Airway Pressure; При СРАР–терапии постоянное положительное давление в дыхательных путях поддерживается в течение всего дыхательного цикла; Суть лечения заключается в том, чтобы в дыхательных путях создать избыточное положительное давление во время сна, чтобы препятствовать их спаданию и устранить основной механизм развития заболевания, заключающийся в циклическом перекрытии дыхательных путей на уровне глотки; Основным преимуществом CPAP–терапии является обеспечение практически полного устранения нарушений дыхания во сне в первую ночь лечения вне зависимости от исходной тяжести СОАС; Для хорошей комплаентности пациента необходимо обучение пациента; Оперативное лечение храпа и СОАС – рекомендуется только при отсутствии эффекта от применения СРАР–терапии или внутриротовых аппликаторов: увулопалатопластика (вмешательство на небном язычке и небных дужках); увулопалатофарингопластика – максимально возможное удаление тканей на уровне глотки, включающее тонзиллэктомию, увулотомию, иссечение части мягкого неба и небных дужек.Факторы риска ОГБ: большая скорость подъема, постоянное проживание на высоте ниже 900 м, физическое напряжение, наличие сопутствующих сердечно–легочных заболеваний, возраст старше 50 лет, генетически опосредованная индивидуальная чувствительность (большей чувствительностью отличаются люди носители антигенов HLA–DR6 и HLA–DQ4); Спектр нарушений колеблется от легких расстройств до отека легких и мозга, которые чаще всего и являются причиной смерти; Частота болезни у детей такая же, как у взрослых; женщины менее чувствительны к развитию высотного отека легких, чем мужчины.ОГБ легкой степени: головная боль + один из следующих симптомов: плохой аппетит, слабость, головокружение, нарушение сна в первые 12 часов после подъема на высоту.ОГБ средней степени: умеренная головная боль, тошнота, головокружение, вялость, бессонница, задержка жидкости в течение 12 часов и более.ОГБ тяжелой степени: сильная постоянная головная боль, тошнота, рвота, боли в области живота и желудочно–кишечные расстройства, резкая слабость, бессонница, психоэмоциональные нарушения, цианоз, возможна атаксия; Ритм дыхания во время ночного сна нарушается (дыхание Чейна–Стокса); Кожные покровы лица, особенно губ, приобретают бледный, чаще синюшный, оттенок в результате недостаточного насыщения кислородом артериальной крови, которая теряет свой алый цвет; Температура повышается на 1–2 °C, возникает озноб; Учащаются случаи кровотечений из носа, рта, лёгких (кровохарканье), иногда желудочные.Лечение ОГБ: когда это возможно, спуск в сопровождении на 300–1000 м остаётся наиболее эффективным лечением для всех форм высотной болезни; Другие способы лечения острой горной болезни отражают варьирующую остроту клинических симптомов;Легкая степень ОГБ: Ограничение физической нагрузки, согревание тела, ограничение приема соли; Анальгетики (парацетамол, ибупрофен) при головной боли; Ацетазоламид 125–250 мг 2 раза в день; Кислород;Средняя степень и среднетяжелая степень ОГБ: дополнительно к вышеперечисленным мерам дексаметазон, 8 мг первоначально и 4 мг каждые 6 часов внутрь или парентерально.Лечение ВОЛ (Высокогорный отёк лёгких) – потенциально смертельное состояние, требующее неотложного медицинского вмешательства; Физиологическое повышение давления в лёгочной артерии в ответ на гипоксию считается важным фактором, и лекарства, которые понижают давление в лёгочной артерии – помогают при высотном отёке лёгких; спуск в сопровождении на 300–1000 м – наиболее эффективное лечение; Нифедипин 30 мг пролонгированного высвобождения дважды в день – эффективен и для профилактики и для лечения отёка; Тадалафил 10 мг дважды в день и силденафил 50 мг трижды в день – эффективны в предотвращении отёка; В рандомизированном плацебо контролируемом исследовании бета–агонист сальметерол (125 мг дважды в день) снижал частоту высотного отёка лёгких; Нет доказательств, позволяющих использовать мочегонные средства (диуретики) в лечении высотного отёка лёгких.Лечение ВОМ (Высокогорный отёк мозга): Немедленный спуск в сопровождении (300–1000 м); Назначение кислорода (2–4 л/мин); дексаметазон (8 мг первоначально, затем 4 мг внутрь или парентерально каждые 6 часов); Если спуск невозможен, может быть использована портативная гипербарическая камера (сумка Гамова).Показания для лечения в высокогорье: Болезни органов дыхания: бронхиальная астма легкого и среднетяжелого течения; обструктивные бронхиты в фазе ремиссии; поллинозы и другие аллергические состояния;Болезни системы крови: железодефицитные анемии; апластические анемии; аутоиммунные тромбоцитопении;Противопоказания к климатотерапии: все острые заболевания до выздоровления; хронические заболевания в фазе обострения или стадии декомпенсации; резкое снижение показателей вентиляции; резкое снижение показателей крови у гематологических больных; Общие принципы проведения высокогорной климатотерапии: тщательный отбор и подготовка больных; наблюдение медперсонала в периоды подъема и пребывания в горах; полупостельный режим в острый период адаптации; постепенное расширение двигательного режима.Гипертоническая болезнь в условиях высокогорья: Гипербарическая гипоксия способствует снижению ОПСС и более низкому уровню САД, присоединяется развитие ВЛАГ; Клинические особенности: чаще возникают головные боли и головокружение; загрудинные боли без типичной для стенокардии иррадиации и изменений на ЭКГ; Особенности диагностики: на ЭКГ из–за высокой частоты ГПЖ могут нивелироваться признаки ГЛЖ; на ЭХО–КГ признаки ГПЖ + ГЛЖ;Особенности лечения: осторожно назначать бета–адреноблокаторы, так как они повышают ЛАД.Пневмония в высокогорье:Пневмония на уровне 1000–5000 м встречается в 2 раза чаще и протекает тяжелее; Пневмония в высокогорье протекает более тяжело с выраженной гипоксемией; характеризуется затяжным течением; чаще встречаются крупозные пневмонии, кровохарканье; часто осложняется отеком легких;Особенности диагностики: срочное рентгенологическое исследование грудной клетки по возможности; контроль насыщения крови кислородом (пульсоксиметрия); ЭКГ, ЭХО–КГ – для коррекции ЛАГ;Особенности лечения: адекватные антибиотики в достаточных дозах не позднее 2 часов; оксигенотерапия при необходимости; мочегонные средства при развитии отека легких; противовоспалительные средства; средства, снижающие ЛАД; кардиотонические средства при необходимости.ХОБЛ в высокогорье имеет более тяжелое течение из–за усугубления гипоксемии; Более выраженная гипоксемия, усиливая спазм легочных сосудов повышает ЛАД, в целом ускоряя развитие ГПЖ:  Эритропоэтин ->   эритропоэз -> эритроцитоз,   вязкости крови – увеличение ЛСС усугубляет ЛАГ; Все перечисленное ускоряет прогрессирование и декомпенсацию ХЛС.Особенности клиники: резче проявляются симптомы гипоксемии (диффузный цианоз, симптом «барабанных палочек» и т;д;); частое кровохарканье; чаще боли в области сердца; более раннее развитие гиперфункции правого желудочка; более ранняя легочно–сердечная недостаточность;Особенности диагностики: ранний контроль ФВД, SaO2, ЭКГ, ЭХО–КГ;Особенности лечения: более упорная борьба с факторами риска, курением;более активное лечение под контролем ФВД, SaO2, ЭКГ, ЭХО–КГ; длительная оксигенотерапия; спуск в низкогорье.Бронхиальная астма в высокогорье: Среди жителей высокогорья БА встречается значительно реже, вследствие чистоты воздуха; низкого содержания бактерий и аллергенов; повышенной активности гипофизарно– надпочечниковой системы; У жителей равнин, больных БА, подъем в горы также благоприятно влияет на течение болезни из–за: Элиминации аллергенов; Активации ГНС с увеличением уровня кортизола и адреналина; Уменьшения аэродинамического сопротивления воздухоносных путей при разреженном воздухе; увеличивается уровень кортизола в плазме; снижается уровень IgE и эозинофилов крови; повышается уровень макрофагов и снижается число эозинофилов и нейтрофилов в ЖБАЛ; снижается гиперреактивность бронхов; увеличиваются показатели вентиляции легких; уменьшается одышка или прекращаются приступы удушья.В результате высокогорье является важным компонентом лечения бронхиальной астмы (высокогорная климатотерапия).Общие принципы лечения ДН: Этиотропное: при инфекциях (пневмония) – противомикробные лекарственные средства; при пневмотораксе и плеврите– дренирование плевральной полости; при тромбоэмболии легочной артерии – тромболитическая терапия; при механической обструкции дыхательных путей – удаление инородного тела;Поддержание проходимости дыхательных путей: бронхолитические, муколитические лекарственные средства; постуральный дренаж с массажем грудной клетки, метод кашлевой техники; эндотрахеальная интубация, трахеостомия; Нормализация транспорта кислорода: кислородотерапия; постоянное положительное давление в дыхательных путях или положительное давление в конце выдоха; стимуляторы дыхания; ингаляции оксида азота; изменение положения тела; Оптимизация сердечного выброса и гематокрита.Лечение ЛАГ и ЛС комплексное, и направлено на лечение основного заболевания, обучение пациента, соблюдение режима труда и отдыха с исключением чрезмерных физических нагрузок, ограничение приема поваренной соли и жидкости (при декомпенсации), профилактику простудных заболеваний, длительную оксигенотерапию (при снижении насыщения (сатурации) крови кислородом ниже 90% (РаО2 менее 60 мм рт ст) рекомендованы длительные (до 18 и более часов в сутки) ингаляции кислорода;Антиагреганты и антикоагулянты: Варфарин под контролем МНО; Стартовая доза Варфарина 2,5–5мг;Диуретики – показаны пациентам с правожелудочковой сердечной недостаточностью, под контролем уровня электролитов крови, а также состояния функции почек;Сердечные гликозиды (дигоксин) – при правожелудочковой сердечной недостаточности;Антагонисты кальция (дигидропиридины): нифедипин 120–240, амлодипиндо 40 мг/сут, Дилтиазем до 240–720 мг/сут;Специфические препараты (по доступности):Простаноиды – (Эпопростенол, Илопрост, Трепростинил, Берапрост); Помимо вазодилатирующего, обладают антиагрегационным и антипролиферативным действием; Антагонисты рецепторов эндотелина–1 характеризуются мощным вазоконтрикторным и митогенным свойствами в отношении гладкомышечных клеток (Бозентан, Амбризентан, Мацитентан); Ингибиторы фосфодиэстеразы типа 5 (Силденафил, Тадалафил) – мощные селективные ингибиторы цГМФ–зависимой фосфодиэстеразы тип 5; Предотвращая деградацию цГМФ, вызывают снижение ЛСС и перегрузки ПЖ;Растворимый стимулятор гуанилатциклазы (Риоцигуат); Специфическую терапию необходимо начинать при отрицательном результате вазореактивного теста (который проводится при катетеризации правых отделов сердца) и отсутствии положительной динамики от использования БКК.Предрасполагающими факторами развития абсцесса легкого являются: хронические неспецифические заболевания легких, хронический обструктивный бронхит (у курильщиков), бронхоэктазы, бронхиальная астма; низкий иммунитет, осложняющий течение пневмонии, у алкоголиков, наркоманов, ВИЧ–инфицированных; заболевания, резко нарушающие общую резистентность организма (ОРЗ, эпидемический грипп, тяжелая травма, заболевания крови, гиповитаминозы, сахарный диабет); Абсцессы легкого чаще всего вызываются гноеродными кокками – стафилококками, реже анаэробной микрофлорой; В последние годы «птичий» и «свиной» грипп заканчивался летальными исходами из–за расплавления легочной ткани за счет присоединения со 2–3 недели высоковирулентного штамма бета–гемолитического стрептококка, Klebsiellapneumoniae, Enterobacter, Pseudomonasaeruginosa или их сочетания со стафилококком;Заболевание, как правило, начинается на фоне одно– или двусторонней пневмонии, чаще всего аспирационного генеза или гриппозной.Лечение абсцесса легкого: Консервативная терапия включает в себя соблюдение постельного режима, придание пациенту дренирующего положения для улучшения оттока мокроты; Антибактериальная терапия; Бронхоскопия с активной аспирацией полостей и с промыванием их растворами антисептиков (бронхоальвеолярныйлаваж); Если абсцесс расположен периферически и имеет большой размер, то прибегают к трансторакальной пункции; Когда же консервативное лечение абсцесса легког малоэффективно и в случаях осложнений, показана резекция легкого;Консервативное лечение:I) Эмпирическая антибактериальная терапия: цефалоспорин III поколения + аминогликозид (амикацин) +метронидазол; аминогликозид (амикацин) + клиндамицин; фторхинолон III–IV поколения + метронидазол; цефоперазон + сульбактама или карбопенемы;II) Постуральный дренаж;III) Селективная транскутанная интратрахеальная санация патологического очага; IV); Интрабронхиальная санация с чрескожным дренированием (при больших и гигантских субплевральных гнойниках);Парахирургические процедуры: при тотальной эмпиеме плевры устанавливают два дренажа: один – во II м/р по СКЛ, второй – в VII м/р по ЗПЛ; эвакуируют путём активной аспирации; селективная окклюзия свищнесущего бронха пенополиуретаном;При лечении возможна также катетеризация бронхиальных артерий из просвета аорты (по методу Сельдингера);Показания к хирургическому вмешательству: продолжающееся кровотечение, ограниченная гангрена (гангренозный абсцесс); Операции: пневмотомия, торакоплевроабсцессостомия, анатомическая пневмонэктомия; При сформированном хроническом абсцессе пневмотомию производят лишь при стойкой блокаде дренирующего бронха во время тяжелого рецидива воспаления; В этом случае операция относится к разряду паллиативных; Редкими осложнениями пневмотомии являются флегмона грудной стенки, аррознонное кровотечение, образование бронхоторакальных свищей; Частые рецидивы нагноения инвалидизируют больных и могут привести к тяжелым осложнениям – появлению новых очагов абсцедирования, эмпиемы плевры, легочного кровотечения, амилоидоза внутренних органов и др; Добиться излечения в таких случаях удается только путем радикальной резекции пораженной части или всего легкого; Современная оперативная техника позволяет выполнить резекцию сегмента, доли, двух долей легкого; Однако при хронических абсцессах экономные операции (клиновидная резекция, сегментэктомия) применяют очень редко из–за опасности вспышки воспаления в прилежащих к области резекции участках легкого.Туберкулёз лёгких: Особые трудности представляет дифференциальная диагностика острого абсцесса и гангрены лёгких с кавернозной формой туберкулёза; Клинические проявления этих заболеваний во многом схожи; Дифференциальная диагностика основывается главным образом на данных динамики патологического процесса в лёгких и обнаружении в мокроте микобактерий туберкулёза; Их выявление разрешает все сомнения; Нагноившаяся киста лёгкого; Инфицирование кисты чаще всего происходит бронхогенным путём; Ведущее место в дифференциальной диагностике кист и абсцессов лёгкого принадлежит рентгенологическому исследованию; В отличие от абсцесса, полость нагноившейся кисты на рентгенограммах имеет шаровидную и овальную форму с тонкими ровными стенками; При этом окружающая кисту лёгочная паренхима в ранние от начала нагноения сроки не изменена;Эхинококк лёгкого: Нагноение при эхинококке лёгкого может развиваться вокруг эхинококковой кисты или в самой кисте; Клиническая картина нагноившегося эхинококка лёгкого очень напоминает клинику абсцесса; Обнаружение в мокроте обрывков хитиновой оболочки паразита, наличие эхинококка в анамнезе, постановка специфических серологических реакций (реакция латекс–агглютинации, аллергическая проба Каццони) помогает установить правильный диагноз; Очень часто при рентгенологическом исследовании хорошо видна тень хитиновой оболочки эхинококка;Отграниченная эмпиема; Разграничить пиопневмоторакс и абсцесс лёгкого позволяет чаще всего только тщательный анализ рентгенологических данных; В пользу пиопневмоторакса свидетельствует очень широкий горизонтальный уровень (до 10 см), обязательно достигающий внутренней поверхности грудной клетки;Осложнения: эмпиема плевры, бронхо–плевральные свищи, пиопневмоторакс, лёгочное кровотечение;Лечение: Для непосредственного воздействия на очаг гангрены легкого через дренирующий бронх выполняют лечебные бронхоскопии с аспирацией секрета, проведением бронхоальвеолярного лаважа, введением антибиотиков; При развитии плеврита производят пункцию плевральной полости с удалением экссудата; Интенсивная консервативная терапия гангрены легкого может способствовать приостановке деструктивного процесса и его отграничению по типу гангренозного абсцесса; В этом случае дальнейшая тактика осуществляется по схеме лечения абсцесса легкого; В остальных случаях, после коррекции метаболических и гемодинамических нарушений, при гангрене легкого требуется проведение оперативного вмешательства; В зависимости от распространенности деструктивных изменений в легких объем хирургического вмешательства может включать лобэктомию, билобэктомию или пневмонэктомию; В некоторых случаях прибегают к проведению дренирующей операции (пневмотомии); Осложнения: несостоятельность культи бронха (лечение: пластические внутрипросветные методы закрытия культи главного бронха и бронхиального свища с использованием ротационных лоскутов широчайшей мышцы спины или большого сальника с сохранённым  осевым кровотоком).Лечение Экссудативных плевритов: пункция плевральной полости (в небольшом объеме, в исключительных случаях более литра – при сдавливании скопившейся жидкости органов средостения); Этиотропная терапия (антибактериальная, гормональная, противовоспалительная, противотуберкулезная и пр).Лечение острой эмпиемы плевры включает дренирование и санацию плевральной полости, массивную антибиотикотерапию, дезинтоксикационную терапию; при хронической эмпиеме – торакостомия, торакопластика, плеврэктомия с декортикацией легкого; С целью нормализации гомеостаза, снижения интоксикации и повышения иммунорезистентных возможностей организма выполняется УФО крови, плазмаферез, плазмоцитоферез, гемосорбция; В период рассасывания экссудата назначаются процедуры, предотвращающие образование плевральных сращений – дыхательная гимнастика, ЛФК, ультразвук, массаж грудной клетки.Эндемическое заболевание Эхинококкоз: Echinococcusgranulosus:Консервативное лечение: противопаразитарная терапия (в послеоперационный период и при невозможности оперативного лечения) –албендазол 20 мг/кг/сутдлительными курсами с перерывами общей продолжительностью от 2 до 4 лет;Хирургическое лечение: органосохраняющая открытая и закрытая «идеальная» эхинококкэктомия; Полость можно не ликвидировать самостоятельно (малые размеры); В других случаях производят облитерацию путем капитонажа по Дельбе; При значительных по размеру полостях, производят частичную перицистэктомию и оставляют полость открытой; Клиновидные резекции, лобэктомия, пневмонэктомия; При двусторонних эхинококковых кистах приняты последовательные операции: сначала удаляют кисты из одного, а затем из другого легкого (интервал 2–3 мес);Лечение: симптоматическая терапия (в зависимости от нарушения функционального состояния того или иного пораженного органа); Хирургическое (радикальное, условно–радикальное, паллиативное) – лобэктомия, пневмонэктомия, дренирование полости распада с аспирацией.Эндемическое заболевание Альвеококкоз: Echinococcusmultilocularis:Протекает медленно, поражая вначале печень; При метастазах в легкие могут возникнуть симптомы пневмонии, бронхита; Выделяют раннюю, неосложненную стадию, стадию осложнений и терминальную стадию заболевания; При вскрытии полости могут образовываться бронхо-печеночные, плевро–печеночные свищи, плеврит, перикардит; В терминальной стадии болезни развиваются необратимые обменные нарушения, кахексия; Выделяют медленно прогрессирующую, активно прогрессирующую и злокачественную клинико–морфологические формы болезни;Лечение: противопаразитарная терапия (в послеоперационный период и при невозможности оперативного лечения) – албендазол 20 мг/кг/сут длительными курсами с перерывами общей продолжительностью от 2 до 4 лет; Симптоматическая терапия (в зависимости от нарушения функционального состояния того или иного пораженного органа); Хирургическое (радикальное, условно–радикальное, паллиативное) – лобэктомия, пневмонэктомия, дренирование полости распада с аспирацией.Острый медиастинит:Диагностика: рентгенологически – расширение тени средостения, уровень жидкости, смещение трахеи, пищевода, может быть плеврит;Лечение – массивная антибиотикотерапия, дезинтоксикационная терапия, экстракорпоральная детоксикация; Экстренная операция для устранения источника медиастинита и дренирование средостения: чрезшейным доступом (Разумовского); чрезбрюшинным (Савиных–Розанова); Заканчивают операцию герметичным дренированием средостения 2- просветным силиконовым дренажом для промывания и аспирации;Операционные доступы: чрезплевральные, внеплевральные, чрездвуплевральные с поперечным рассечением грудины, часто торакоскопические вмешательства с использованием видеоэндоскопической техники.Кисты средостения, опухоли эктопированных тканей и органов:1) Гастрогенные – развиваются из зачатков эпителия первичной кишки (пищеводные, желудочные, кишечные) – задне–нижнее средостение;2) Перикардиальные – целомические кисты перикарда; Тонкостенные и возникают в результате нарушения процесса его развития; Обычно доброкачественные; Проявляются нарастающей болью; Диагностируются с помощью ЭКС, КТ, СКТ, рентгенографией; Лечение – хирургическое иссечение кисты;3) Бронхогенные (смещаются в связи с наличием ножки, связывающей кистус трахеей или бронхом); Могут иметь уровень жидкости; Лечение – удаление кисты или пункция ее под контролем УЗИ;Дермоидные кисты и тератомы средостения: Самые частые опухоли средостения – дермоидные кисты – образуются из эктодермы и состоят из соединительной ткани, эпителия, сальных желез – это органоидные образования, изнутри покрыты кожей, грануляциями, содержат буруюсальниковую жидкость и волосы; В 30% случаев прорываются в бронхи – тератомы – возникают из второго и третьего зародышевых листков (экто–эндо–мезодермы); Состоят из различных тканей и органов, могут включать участки желез, зубы, кости, иногда частично развитый плод; Клиника: чаще всего вызывают синдром сдавления органов средостения;Диагностика – рентгенография;Лечение: резекция кисты с электрокоагуляцией внутренней поверхности образования;Паразитарные кисты средостения, редкие кисты и опухоли средостения:Эхинококк (редко): Клиника: боль, одышка, дисфагия, кава–синдром, прорыв в бронхи, нагноение, медиастиниту; Лечение – при живом паразите – одномоментная закрытая эхинококкэктомия.\n"
          ]
        }
      ]
    }
  ]
}