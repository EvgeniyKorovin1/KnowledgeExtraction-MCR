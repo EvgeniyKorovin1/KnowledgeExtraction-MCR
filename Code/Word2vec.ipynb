{
  "nbformat": 4,
  "nbformat_minor": 0,
  "metadata": {
    "colab": {
      "provenance": [],
      "gpuType": "T4"
    },
    "kernelspec": {
      "name": "python3",
      "display_name": "Python 3"
    },
    "language_info": {
      "name": "python"
    },
    "accelerator": "GPU"
  },
  "cells": [
    {
      "cell_type": "code",
      "execution_count": null,
      "metadata": {
        "id": "HildhnbPNbky",
        "colab": {
          "base_uri": "https://localhost:8080/"
        },
        "outputId": "ffac7b0c-c63e-4399-b19c-1824c33e11d5"
      },
      "outputs": [
        {
          "output_type": "stream",
          "name": "stdout",
          "text": [
            "Looking in indexes: https://pypi.org/simple, https://us-python.pkg.dev/colab-wheels/public/simple/\n",
            "Collecting pymorphy2\n",
            "  Downloading pymorphy2-0.9.1-py3-none-any.whl (55 kB)\n",
            "\u001b[2K     \u001b[90m━━━━━━━━━━━━━━━━━━━━━━━━━━━━━━━━━━━━━━━━\u001b[0m \u001b[32m55.5/55.5 kB\u001b[0m \u001b[31m5.0 MB/s\u001b[0m eta \u001b[36m0:00:00\u001b[0m\n",
            "\u001b[?25hCollecting dawg-python>=0.7.1 (from pymorphy2)\n",
            "  Downloading DAWG_Python-0.7.2-py2.py3-none-any.whl (11 kB)\n",
            "Collecting pymorphy2-dicts-ru<3.0,>=2.4 (from pymorphy2)\n",
            "  Downloading pymorphy2_dicts_ru-2.4.417127.4579844-py2.py3-none-any.whl (8.2 MB)\n",
            "\u001b[2K     \u001b[90m━━━━━━━━━━━━━━━━━━━━━━━━━━━━━━━━━━━━━━━━\u001b[0m \u001b[32m8.2/8.2 MB\u001b[0m \u001b[31m79.6 MB/s\u001b[0m eta \u001b[36m0:00:00\u001b[0m\n",
            "\u001b[?25hCollecting docopt>=0.6 (from pymorphy2)\n",
            "  Downloading docopt-0.6.2.tar.gz (25 kB)\n",
            "  Preparing metadata (setup.py) ... \u001b[?25l\u001b[?25hdone\n",
            "Building wheels for collected packages: docopt\n",
            "  Building wheel for docopt (setup.py) ... \u001b[?25l\u001b[?25hdone\n",
            "  Created wheel for docopt: filename=docopt-0.6.2-py2.py3-none-any.whl size=13707 sha256=356ccd423e6fab8a860728b16d7129a0c5f93c36dec96e705d00cd20d3806853\n",
            "  Stored in directory: /root/.cache/pip/wheels/fc/ab/d4/5da2067ac95b36618c629a5f93f809425700506f72c9732fac\n",
            "Successfully built docopt\n",
            "Installing collected packages: pymorphy2-dicts-ru, docopt, dawg-python, pymorphy2\n",
            "Successfully installed dawg-python-0.7.2 docopt-0.6.2 pymorphy2-0.9.1 pymorphy2-dicts-ru-2.4.417127.4579844\n"
          ]
        }
      ],
      "source": [
        "!pip install pymorphy2"
      ]
    },
    {
      "cell_type": "code",
      "source": [
        "%load_ext autoreload\n",
        "%autoreload 2\n",
        "import collections\n",
        "import re\n",
        "import copy\n",
        "import datetime\n",
        "import random\n",
        "import traceback\n",
        "import numpy as np\n",
        "import torch\n",
        "from torch.utils.data import DataLoader\n",
        "import random\n",
        "import pandas as pd\n",
        "import matplotlib.pyplot as plt\n",
        "%matplotlib inline\n",
        "\n",
        "import torch\n",
        "from torch import nn\n",
        "from torch.nn import functional as F\n",
        "from sklearn.decomposition import TruncatedSVD\n",
        "from sklearn.manifold import TSNE\n",
        "\n"
      ],
      "metadata": {
        "id": "VkKgfy_m5rij"
      },
      "execution_count": null,
      "outputs": []
    },
    {
      "cell_type": "code",
      "source": [
        "TOKEN_RE = re.compile(r'[\\w\\d]+')\n",
        "\n",
        "# Функция выполняет токенизацию текста txt  с использованием регулярного выражения, возвращая список токенов, удовлетворяющих заданному минимальному размеру min_token_size\n",
        "def tokenize_text_simple_regex(txt, min_token_size=4):\n",
        "    txt = txt.lower()\n",
        "    all_tokens = TOKEN_RE.findall(txt)\n",
        "    return [token for token in all_tokens if len(token) >= min_token_size]\n",
        "\n",
        "# Функция разбивает текст txt на отдельные символы, возвращая список символов\n",
        "def character_tokenize(txt):\n",
        "    return list(txt)\n",
        "\n",
        "# Функция осуществляет токенизацию корпуса текстов texts с помощью указанного токенизатора (по умолчанию tokenize_text_simple_regex), возвращая список списков токенов для каждого текста\n",
        "def tokenize_corpus(texts, tokenizer=tokenize_text_simple_regex, **tokenizer_kwargs):\n",
        "    return [tokenizer(text, **tokenizer_kwargs) for text in texts]\n",
        "\n",
        "# Функция  добавляет фиктивный токен с индексом 0 в словарь word2id, присваивая ему указанный токен (по умолчанию <PAD>), и возвращает обновленный словарь\n",
        "def add_fake_token(word2id, token='<PAD>'):\n",
        "    word2id_new = {token: i + 1 for token, i in word2id.items()}\n",
        "    word2id_new[token] = 0\n",
        "    return word2id_new\n",
        "\n",
        "# Функция преобразует список списков токенов tokenized_texts в список списков их соответствующих идентификаторов на основе словаря word2id, возвращая результат\n",
        "def texts_to_token_ids(tokenized_texts, word2id):\n",
        "    return [[word2id[token] for token in text if token in word2id]\n",
        "            for text in tokenized_texts]\n",
        "\n",
        "# Функция  строит словарь word2id на основе токенизированных текстов tokenized_texts\n",
        "def build_vocabulary(tokenized_texts, max_size=1000000, max_doc_freq=0.8, min_count=5, pad_word=None):\n",
        "    word_counts = collections.defaultdict(int)\n",
        "    doc_n = 0\n",
        "\n",
        "    # посчитать количество документов, в которых употребляется каждое слово\n",
        "    # а также общее количество документов\n",
        "    for txt in tokenized_texts:\n",
        "        doc_n += 1\n",
        "        unique_text_tokens = set(txt)\n",
        "        for token in unique_text_tokens:\n",
        "            word_counts[token] += 1\n",
        "\n",
        "    # убрать слишком редкие и слишком частые слова\n",
        "    word_counts = {word: cnt for word, cnt in word_counts.items()\n",
        "                   if cnt >= min_count and cnt / doc_n <= max_doc_freq}\n",
        "\n",
        "    # отсортировать слова по убыванию частоты\n",
        "    sorted_word_counts = sorted(word_counts.items(),\n",
        "                                reverse=True,\n",
        "                                key=lambda pair: pair[1])\n",
        "\n",
        "    # добавим несуществующее слово с индексом 0 для удобства пакетной обработки\n",
        "    if pad_word is not None:\n",
        "        sorted_word_counts = [(pad_word, 0)] + sorted_word_counts\n",
        "\n",
        "    # если у нас по прежнему слишком много слов, оставить только max_size самых частотных\n",
        "    if len(word_counts) > max_size:\n",
        "        sorted_word_counts = sorted_word_counts[:max_size]\n",
        "\n",
        "    # нумеруем слова\n",
        "    word2id = {word: i for i, (word, _) in enumerate(sorted_word_counts)}\n",
        "\n",
        "    # нормируем частоты слов\n",
        "    word2freq = np.array([cnt / doc_n for _, cnt in sorted_word_counts], dtype='float32')\n",
        "\n",
        "    return word2id, word2freq\n",
        "\n",
        "\n",
        "PAD_TOKEN = '__PAD__'\n",
        "NUMERIC_TOKEN = '__NUMBER__'\n",
        "NUMERIC_RE = re.compile(r'^([0-9.,e+\\-]+|[mcxvi]+)$', re.I)\n",
        "\n",
        "# Функция заменяет числовые токены в списках токенов tokenized_texts на специальный токен NUMERIC_TOKEN, возвращая обновленные списки токенов\n",
        "def replace_number_nokens(tokenized_texts):\n",
        "    return [[token if not NUMERIC_RE.match(token) else NUMERIC_TOKEN for token in text]\n",
        "            for text in tokenized_texts]"
      ],
      "metadata": {
        "id": "MAwAJFdq5vLr"
      },
      "execution_count": null,
      "outputs": []
    },
    {
      "cell_type": "code",
      "source": [
        "import numpy as np\n",
        "import scipy.sparse\n",
        "\n",
        "# Класс представляет векторные представления слов (embeddings) с соответствующим словарем word2id и обратным словарем id2word\n",
        "# предоставляет методы для поиска наиболее похожих слов, выполнения аналогий и получения векторов слов.\n",
        "class Embeddings:\n",
        "    def __init__(self, embeddings, word2id):\n",
        "        self.embeddings = embeddings\n",
        "        self.embeddings /= (np.linalg.norm(self.embeddings, ord=2, axis=-1, keepdims=True) + 1e-4)\n",
        "        self.word2id = word2id\n",
        "        self.id2word = {i: w for w, i in word2id.items()}\n",
        "\n",
        "    def most_similar(self, word, topk=10):\n",
        "        return self.most_similar_by_vector(self.get_vector(word), topk=topk)\n",
        "\n",
        "    def analogy(self, a1, b1, a2, topk=10):\n",
        "        a1_v = self.get_vector(a1)\n",
        "        b1_v = self.get_vector(b1)\n",
        "        a2_v = self.get_vector(a2)\n",
        "        query = b1_v - a1_v + a2_v\n",
        "        return self.most_similar_by_vector(query, topk=topk)\n",
        "\n",
        "    def most_similar_by_vector(self, query_vector, topk=10):\n",
        "        similarities = (self.embeddings * query_vector).sum(-1)\n",
        "        best_indices = np.argpartition(-similarities, topk, axis=0)[:topk]\n",
        "        result = [(self.id2word[i], similarities[i]) for i in best_indices]\n",
        "        result.sort(key=lambda pair: -pair[1])\n",
        "        return result\n",
        "\n",
        "    def get_vector(self, word):\n",
        "        if word not in self.word2id:\n",
        "            raise ValueError('Неизвестное слово \"{}\"'.format(word))\n",
        "        return self.embeddings[self.word2id[word]]\n",
        "\n",
        "    def get_vectors(self, *words):\n",
        "        word_ids = [self.word2id[i] for i in words]\n",
        "        vectors = np.stack([self.embeddings[i] for i in word_ids], axis=0)\n",
        "        return vectors"
      ],
      "metadata": {
        "id": "J9ws2w9v6DCq"
      },
      "execution_count": null,
      "outputs": []
    },
    {
      "cell_type": "code",
      "source": [
        "import torch\n",
        "from torch.utils.data import Dataset\n",
        "\n",
        "\n",
        "def ensure_length(txt, out_len, pad_value):\n",
        "    if len(txt) < out_len:\n",
        "        txt = list(txt) + [pad_value] * (out_len - len(txt))\n",
        "    else:\n",
        "        txt = txt[:out_len]\n",
        "    return txt\n",
        "\n",
        "# Класс является подклассом Dataset из библиотеки PyTorch и предназначен для создания датасета с паддингом последовательностей\n",
        "class PaddedSequenceDataset(Dataset):\n",
        "    def __init__(self, texts, targets, out_len=100, pad_value=0):\n",
        "        self.texts = texts\n",
        "        self.targets = targets\n",
        "        self.out_len = out_len\n",
        "        self.pad_value = pad_value\n",
        "\n",
        "    def __len__(self):\n",
        "        return len(self.texts)\n",
        "\n",
        "    def __getitem__(self, item):\n",
        "        txt = self.texts[item]\n",
        "\n",
        "        txt = ensure_length(txt, self.out_len, self.pad_value)\n",
        "        txt = torch.tensor(txt, dtype=torch.long)\n",
        "\n",
        "        target = torch.tensor(self.targets[item], dtype=torch.long)\n",
        "\n",
        "        return txt, target\n",
        "\n",
        "# Функция создает маску на основе длин последовательностей lengths и максимальной длины max_length, где 1 указывает на наличие элемента в последовательности, а 0 на паддинг\n",
        "def make_mask_from_lengths(lengths, max_length):\n",
        "    result = torch.zeros(len(lengths), max_length, dtype=torch.bool)\n",
        "    for sample_i, cur_len in enumerate(lengths):\n",
        "        result[sample_i, :cur_len] = 1\n",
        "    return result"
      ],
      "metadata": {
        "id": "fSleqRO46OhS"
      },
      "execution_count": null,
      "outputs": []
    },
    {
      "cell_type": "code",
      "source": [
        "# Функция устанавливает случайное зерно для генераторов случайных чисел в Python и PyTorch с целью воспроизводимости результатов\n",
        "def init_random_seed(value=0):\n",
        "    random.seed(value)\n",
        "    np.random.seed(value)\n",
        "    torch.manual_seed(value)\n",
        "    torch.cuda.manual_seed(value)\n",
        "    torch.backends.cudnn.deterministic = True\n",
        "\n",
        "# Функция копирует данные data на указанное устройство device, поддерживая как тензоры PyTorch, так и списки/кортежи с вложенными тензорами\n",
        "def copy_data_to_device(data, device):\n",
        "    if torch.is_tensor(data):\n",
        "        return data.to(device)\n",
        "    elif isinstance(data, (list, tuple)):\n",
        "        return [copy_data_to_device(elem, device) for elem in data]\n",
        "    raise ValueError('Недопустимый тип данных {}'.format(type(data)))\n",
        "\n",
        "# Функция выводит статистику градиентов модели model, включая среднее значение, стандартное отклонение и норму градиентов\n",
        "def print_grad_stats(model):\n",
        "    mean = 0\n",
        "    std = 0\n",
        "    norm = 1e-5\n",
        "    for param in model.parameters():\n",
        "        grad = getattr(param, 'grad', None)\n",
        "        if grad is not None:\n",
        "            mean += grad.data.abs().mean()\n",
        "            std += grad.data.std()\n",
        "            norm += 1\n",
        "    mean /= norm\n",
        "    std /= norm\n",
        "    print(f'Mean grad {mean}, std {std}, n {norm}')\n",
        "\n",
        "# Функция реализует цикл обучения модели с оценкой качества на отложенной выборке после каждой эпохи\n",
        "def train_eval_loop(model, train_dataset, val_dataset, criterion,\n",
        "                    lr=1e-4, epoch_n=10, batch_size=32,\n",
        "                    device=None, early_stopping_patience=10, l2_reg_alpha=0,\n",
        "                    max_batches_per_epoch_train=10000,\n",
        "                    max_batches_per_epoch_val=1000,\n",
        "                    data_loader_ctor=DataLoader,\n",
        "                    optimizer_ctor=None,\n",
        "                    lr_scheduler_ctor=None,\n",
        "                    shuffle_train=True,\n",
        "                    dataloader_workers_n=0):\n",
        "    \"\"\"\n",
        "    Цикл для обучения модели. После каждой эпохи качество модели оценивается по отложенной выборке.\n",
        "    :param model: torch.nn.Module - обучаемая модель\n",
        "    :param train_dataset: torch.utils.data.Dataset - данные для обучения\n",
        "    :param val_dataset: torch.utils.data.Dataset - данные для оценки качества\n",
        "    :param criterion: функция потерь для настройки модели\n",
        "    :param lr: скорость обучения\n",
        "    :param epoch_n: максимальное количество эпох\n",
        "    :param batch_size: количество примеров, обрабатываемых моделью за одну итерацию\n",
        "    :param device: cuda/cpu - устройство, на котором выполнять вычисления\n",
        "    :param early_stopping_patience: наибольшее количество эпох, в течение которых допускается\n",
        "        отсутствие улучшения модели, чтобы обучение продолжалось.\n",
        "    :param l2_reg_alpha: коэффициент L2-регуляризации\n",
        "    :param max_batches_per_epoch_train: максимальное количество итераций на одну эпоху обучения\n",
        "    :param max_batches_per_epoch_val: максимальное количество итераций на одну эпоху валидации\n",
        "    :param data_loader_ctor: функция для создания объекта, преобразующего датасет в батчи\n",
        "        (по умолчанию torch.utils.data.DataLoader)\n",
        "    :return: кортеж из двух элементов:\n",
        "        - среднее значение функции потерь на валидации на лучшей эпохе\n",
        "        - лучшая модель\n",
        "    \"\"\"\n",
        "    if device is None:\n",
        "        device = 'cuda' if torch.cuda.is_available() else 'cpu'\n",
        "    device = torch.device(device)\n",
        "    model.to(device)\n",
        "\n",
        "    if optimizer_ctor is None:\n",
        "        optimizer = torch.optim.Adam(model.parameters(), lr=lr, weight_decay=l2_reg_alpha)\n",
        "    else:\n",
        "        optimizer = optimizer_ctor(model.parameters(), lr=lr)\n",
        "\n",
        "    if lr_scheduler_ctor is not None:\n",
        "        lr_scheduler = lr_scheduler_ctor(optimizer)\n",
        "    else:\n",
        "        lr_scheduler = None\n",
        "\n",
        "    train_dataloader = data_loader_ctor(train_dataset, batch_size=batch_size, shuffle=shuffle_train,\n",
        "                                        num_workers=dataloader_workers_n)\n",
        "    val_dataloader = data_loader_ctor(val_dataset, batch_size=batch_size, shuffle=False,\n",
        "                                      num_workers=dataloader_workers_n)\n",
        "\n",
        "    best_val_loss = float('inf')\n",
        "    best_epoch_i = 0\n",
        "    best_model = copy.deepcopy(model)\n",
        "\n",
        "    for epoch_i in range(epoch_n):\n",
        "        try:\n",
        "            epoch_start = datetime.datetime.now()\n",
        "            print('Эпоха {}'.format(epoch_i))\n",
        "\n",
        "            model.train()\n",
        "            mean_train_loss = 0\n",
        "            train_batches_n = 0\n",
        "            for batch_i, (batch_x, batch_y) in enumerate(train_dataloader):\n",
        "                if batch_i > max_batches_per_epoch_train:\n",
        "                    break\n",
        "\n",
        "                batch_x = copy_data_to_device(batch_x, device)\n",
        "                batch_y = copy_data_to_device(batch_y, device)\n",
        "\n",
        "                pred = model(batch_x)\n",
        "                loss = criterion(pred, batch_y)\n",
        "\n",
        "                model.zero_grad()\n",
        "                loss.backward()\n",
        "\n",
        "                optimizer.step()\n",
        "\n",
        "                mean_train_loss += float(loss)\n",
        "                train_batches_n += 1\n",
        "\n",
        "            mean_train_loss /= train_batches_n\n",
        "            print('Эпоха: {} итераций, {:0.2f} сек'.format(train_batches_n,\n",
        "                                                           (datetime.datetime.now() - epoch_start).total_seconds()))\n",
        "            print('Среднее значение функции потерь на обучении', mean_train_loss)\n",
        "\n",
        "\n",
        "\n",
        "            model.eval()\n",
        "            mean_val_loss = 0\n",
        "            val_batches_n = 0\n",
        "\n",
        "            with torch.no_grad():\n",
        "                for batch_i, (batch_x, batch_y) in enumerate(val_dataloader):\n",
        "                    if batch_i > max_batches_per_epoch_val:\n",
        "                        break\n",
        "\n",
        "                    batch_x = copy_data_to_device(batch_x, device)\n",
        "                    batch_y = copy_data_to_device(batch_y, device)\n",
        "\n",
        "                    pred = model(batch_x)\n",
        "                    loss = criterion(pred, batch_y)\n",
        "\n",
        "                    mean_val_loss += float(loss)\n",
        "                    val_batches_n += 1\n",
        "\n",
        "            mean_val_loss /= val_batches_n\n",
        "            print('Среднее значение функции потерь на валидации', mean_val_loss)\n",
        "\n",
        "            if mean_val_loss < best_val_loss:\n",
        "                best_epoch_i = epoch_i\n",
        "                best_val_loss = mean_val_loss\n",
        "                best_model = copy.deepcopy(model)\n",
        "                print('Новая лучшая модель!')\n",
        "            elif epoch_i - best_epoch_i > early_stopping_patience:\n",
        "                print('Модель не улучшилась за последние {} эпох, прекращаем обучение'.format(\n",
        "                    early_stopping_patience))\n",
        "                break\n",
        "\n",
        "            if lr_scheduler is not None:\n",
        "                lr_scheduler.step(mean_val_loss)\n",
        "\n",
        "            print()\n",
        "        except KeyboardInterrupt:\n",
        "            print('Досрочно остановлено пользователем')\n",
        "            break\n",
        "        except Exception as ex:\n",
        "            print('Ошибка при обучении: {}\\n{}'.format(ex, traceback.format_exc()))\n",
        "            break\n",
        "\n",
        "    return best_val_loss, best_model\n",
        "\n",
        "# Функция выполняет прогнозирование с использованием обученной модели на указанном наборе данных\n",
        "def predict_with_model(model, dataset, device=None, batch_size=32, num_workers=0, return_labels=False):\n",
        "    \"\"\"\n",
        "    :param model: torch.nn.Module - обученная модель\n",
        "    :param dataset: torch.utils.data.Dataset - данные для применения модели\n",
        "    :param device: cuda/cpu - устройство, на котором выполнять вычисления\n",
        "    :param batch_size: количество примеров, обрабатываемых моделью за одну итерацию\n",
        "    :return: numpy.array размерности len(dataset) x *\n",
        "    \"\"\"\n",
        "    if device is None:\n",
        "        device = 'cuda' if torch.cuda.is_available() else 'cpu'\n",
        "    results_by_batch = []\n",
        "\n",
        "    device = torch.device(device)\n",
        "    model.to(device)\n",
        "    model.eval()\n",
        "\n",
        "    dataloader = DataLoader(dataset, batch_size=batch_size, shuffle=False, num_workers=num_workers)\n",
        "    labels = []\n",
        "    with torch.no_grad():\n",
        "        import tqdm\n",
        "        for batch_x, batch_y in tqdm.tqdm(dataloader, total=len(dataset)/batch_size):\n",
        "            batch_x = copy_data_to_device(batch_x, device)\n",
        "\n",
        "            if return_labels:\n",
        "                labels.append(batch_y.numpy())\n",
        "\n",
        "            batch_pred = model(batch_x)\n",
        "            results_by_batch.append(batch_pred.detach().cpu().numpy())\n",
        "\n",
        "    if return_labels:\n",
        "        return np.concatenate(results_by_batch, 0), np.concatenate(labels, 0)\n",
        "    else:\n",
        "        return np.concatenate(results_by_batch, 0)"
      ],
      "metadata": {
        "id": "gxCPzAQ26dv6"
      },
      "execution_count": null,
      "outputs": []
    },
    {
      "cell_type": "code",
      "source": [
        "# Функция строит визуализацию векторов. Она принимает векторы (vectors) и метки (labels) в качестве параметров? использует алгоритмы t-SNE или SVD для снижения размерности векторов и отображает результат на плоскости\n",
        "def plot_vectors(vectors, labels, how='tsne', ax=None):\n",
        "    if how == 'tsne':\n",
        "        projections = TSNE().fit_transform(vectors)\n",
        "    elif how == 'svd':\n",
        "        projections = TruncatedSVD().fit_transform(vectors)\n",
        "\n",
        "    x = projections[:, 0]\n",
        "    y = projections[:, 1]\n",
        "\n",
        "    ax.scatter(x, y)\n",
        "    for cur_x, cur_y, cur_label in zip(x, y, labels):\n",
        "        ax.annotate(cur_label, (cur_x, cur_y))"
      ],
      "metadata": {
        "id": "k5DgzfYA6sBz"
      },
      "execution_count": null,
      "outputs": []
    },
    {
      "cell_type": "code",
      "source": [
        "init_random_seed()\n",
        "full_dataset = list(pd.read_csv('/content/filePart.csv')['Предложения'].dropna())\n",
        "#full_dataset = full_dataset * 10\n",
        "random.shuffle(full_dataset)\n",
        "\n",
        "TRAIN_VAL_SPLIT = int(len(full_dataset) * 0.8)\n",
        "train_source = full_dataset[:TRAIN_VAL_SPLIT]\n",
        "test_source = full_dataset[TRAIN_VAL_SPLIT:]\n",
        "print(\"Обучающая выборка\", len(train_source))\n",
        "print(\"Тестовая выборка\", len(test_source))\n",
        "print()\n",
        "print('\\n'.join(train_source[:10]))"
      ],
      "metadata": {
        "id": "cym_Uh_ENNAL",
        "colab": {
          "base_uri": "https://localhost:8080/"
        },
        "outputId": "dc2a18fe-b3f0-4dc2-fcf5-f707cc46ad45"
      },
      "execution_count": null,
      "outputs": [
        {
          "output_type": "stream",
          "name": "stdout",
          "text": [
            "Обучающая выборка 944\n",
            "Тестовая выборка 237\n",
            "\n",
            "Однако данный эффект не наблюдался ни при использова-нии ингаляционного будесонида в исследовании EURO-SCOP,  ни  при  использовании  ингаляционного флутиказона пропионата в исследовании TORCH.\n",
            "Бисопролол влиял на параметры внешнего дыхания лучше карведилола.\n",
            "При наличии соответствующих показаний во время тренировки следует использовать различные виды респираторной поддержки.\n",
            "Хроническая обструктивная болезнь легких (ХОБЛ) – это заболевание, при котором нарушается прохождение воздуха по бронхам и попадание кислорода и легкого в кровь.\n",
            "При этом при гриппе и ОРВИ одышка и затрудненное дыхание отмечаются значительно реже, чем при COVID-19.При вирусных гастроэнтеритах ведущим будет поражение желудочно-кишечного тракта (ЖКТ), симптомы поражения дыхательных путей, как правило, выражены минимально.В целом при проведении дифференциальной диагностики необходимо учитывать данные эпидемиологического анамнеза, клинические симптомы и их динамику.\n",
            "В недавно проведенном исследовании при ежедневном приеме азитромицина отмечалась его эффективность в отношении влияния на обострения как конечную точку исследования, однако прием препарата не может быть рекомендован из-за неблагоприятного соотношения предполагаемой пользы и побочных эффектов.\n",
            "Вообще говоря, следует различать отсутствие данных об эффективности терапии и наличие данных о ее неэффективности.Во многих исследованиях критерием включения являлась низкая обратимость ограничения скорости воздушного потока в ответ на введение бронхолитиков.\n",
            "Для пациентов с тяжелой дыхательной недостаточностью при COVID-19, плохой переносимостью физических тренировок из-за тяжести состояния, применение НМЭС улучшает силу верхних и нижних конечностей, уменьшает одышку при физической нагрузке, тем самым сокращая время на восстановление пациента.\n",
            "Однако понятно, что в большинстве стран ХОБЛ служит одной из самых важных причин смерти.\n",
            "При возникновении повторных обострений на терапии комбинацией ДДАХ/ДДБА у пациента без БА и эозинофилии или рецидиве обострений на тройной терапии (ДДАХ/ДДБА/ИГКС), рекомендуется уточнить фенотип ХОБЛ и назначить фенотип-специфическую терапию (рофлумиласт, N-ацетилцистеин, азитромицин и др. Объем бронходилатационной терапии не рекомендуется уменьшать (в отсутствие НЯ) даже в случае максимального облегчения симптомов.\n"
          ]
        }
      ]
    },
    {
      "cell_type": "code",
      "source": [
        "# токенизируем\n",
        "train_tokenized = tokenize_corpus(train_source)\n",
        "test_tokenized = tokenize_corpus(test_source)\n",
        "print('\\n'.join(' '.join(sent) for sent in train_tokenized[:10]))"
      ],
      "metadata": {
        "id": "b-vhNQWaNNUT",
        "colab": {
          "base_uri": "https://localhost:8080/"
        },
        "outputId": "bad5e057-9093-4620-fe17-e19066b80646"
      },
      "execution_count": null,
      "outputs": [
        {
          "output_type": "stream",
          "name": "stdout",
          "text": [
            "однако данный эффект наблюдался использова ингаляционного будесонида исследовании euro scop использовании ингаляционного флутиказона пропионата исследовании torch\n",
            "бисопролол влиял параметры внешнего дыхания лучше карведилола\n",
            "наличии соответствующих показаний время тренировки следует использовать различные виды респираторной поддержки\n",
            "хроническая обструктивная болезнь легких хобл заболевание котором нарушается прохождение воздуха бронхам попадание кислорода легкого кровь\n",
            "этом гриппе орви одышка затрудненное дыхание отмечаются значительно реже covid вирусных гастроэнтеритах ведущим будет поражение желудочно кишечного тракта симптомы поражения дыхательных путей правило выражены минимально целом проведении дифференциальной диагностики необходимо учитывать данные эпидемиологического анамнеза клинические симптомы динамику\n",
            "недавно проведенном исследовании ежедневном приеме азитромицина отмечалась эффективность отношении влияния обострения конечную точку исследования однако прием препарата может быть рекомендован неблагоприятного соотношения предполагаемой пользы побочных эффектов\n",
            "вообще говоря следует различать отсутствие данных эффективности терапии наличие данных неэффективности многих исследованиях критерием включения являлась низкая обратимость ограничения скорости воздушного потока ответ введение бронхолитиков\n",
            "пациентов тяжелой дыхательной недостаточностью covid плохой переносимостью физических тренировок тяжести состояния применение нмэс улучшает силу верхних нижних конечностей уменьшает одышку физической нагрузке самым сокращая время восстановление пациента\n",
            "однако понятно большинстве стран хобл служит одной самых важных причин смерти\n",
            "возникновении повторных обострений терапии комбинацией ддах ддба пациента эозинофилии рецидиве обострений тройной терапии ддах ддба игкс рекомендуется уточнить фенотип хобл назначить фенотип специфическую терапию рофлумиласт ацетилцистеин азитромицин объем бронходилатационной терапии рекомендуется уменьшать отсутствие даже случае максимального облегчения симптомов\n"
          ]
        }
      ]
    },
    {
      "cell_type": "code",
      "source": [
        "# строим словарь\n",
        "vocabulary, word_doc_freq = build_vocabulary(train_tokenized, max_doc_freq=0.9, min_count=5, pad_word='<PAD>')\n",
        "print(\"Размер словаря\", len(vocabulary))\n",
        "print(list(vocabulary.items())[:10])"
      ],
      "metadata": {
        "id": "4-7GHbPqNNhi",
        "colab": {
          "base_uri": "https://localhost:8080/"
        },
        "outputId": "0866eb6e-6038-439f-aeef-d5d98b8631bc"
      },
      "execution_count": null,
      "outputs": [
        {
          "output_type": "stream",
          "name": "stdout",
          "text": [
            "Размер словаря 1201\n",
            "[('<PAD>', 0), ('хобл', 1), ('пациентов', 2), ('легких', 3), ('может', 4), ('является', 5), ('рекомендуется', 6), ('заболевания', 7), ('более', 8), ('также', 9)]\n"
          ]
        }
      ]
    },
    {
      "cell_type": "code",
      "source": [
        "# отображаем в номера токенов\n",
        "train_token_ids = texts_to_token_ids(train_tokenized, vocabulary)\n",
        "test_token_ids = texts_to_token_ids(test_tokenized, vocabulary)\n",
        "\n",
        "print('\\n'.join(' '.join(str(t) for t in sent)\n",
        "                for sent in train_token_ids[:10]))"
      ],
      "metadata": {
        "id": "GrZ3V8KoNp3a",
        "colab": {
          "base_uri": "https://localhost:8080/"
        },
        "outputId": "da0b9c41-2f9e-49df-abbe-e122b92a0dfe"
      },
      "execution_count": null,
      "outputs": [
        {
          "output_type": "stream",
          "name": "stdout",
          "text": [
            "21 566 286 947 189 339 947 189\n",
            "948 110 760\n",
            "40 949 16 340 15 141 950 170 190\n",
            "657 761 250 3 1 133 486 111 112 118\n",
            "155 659 113 488 222 567 59 951 762 95 312 28 85 341 658 409 223 71 53 489 96 487 313 95\n",
            "763 189 252 660 251 25 60 21 568 156 4 14 952 490 253\n",
            "15 157 45 103 20 97 45 953 205 76 570 171 81 54 44 410 569 254\n",
            "2 86 41 366 59 955 956 342 957 46 55 37 959 491 661 411 958 662 314 29 224 954 16 23\n",
            "21 412 1 571 492 343 134\n",
            "663 13 20 172 147 23 13 20 172 147 119 6 1 414 493 764 960 315 20 6 157 413 173 962 961 22\n"
          ]
        }
      ]
    },
    {
      "cell_type": "code",
      "source": [
        "plt.hist([len(s) for s in train_token_ids], bins=20);\n",
        "plt.title('Гистограмма длин предложений');"
      ],
      "metadata": {
        "id": "JF3EdF4HNpj6",
        "colab": {
          "base_uri": "https://localhost:8080/",
          "height": 452
        },
        "outputId": "d3cd5361-3655-4d54-a7de-71608d51b5f5"
      },
      "execution_count": null,
      "outputs": [
        {
          "output_type": "display_data",
          "data": {
            "text/plain": [
              "<Figure size 640x480 with 1 Axes>"
            ],
            "image/png": "[encoded data removed]"
          },
          "metadata": {}
        }
      ]
    },
    {
      "cell_type": "code",
      "source": [
        "MAX_SENTENCE_LEN = 20\n",
        "train_dataset = PaddedSequenceDataset(train_token_ids,\n",
        "                                      np.zeros(len(train_token_ids)),\n",
        "                                      out_len=MAX_SENTENCE_LEN)\n",
        "test_dataset = PaddedSequenceDataset(test_token_ids,\n",
        "                                     np.zeros(len(test_token_ids)),\n",
        "                                     out_len=MAX_SENTENCE_LEN)\n",
        "print(train_dataset[0])"
      ],
      "metadata": {
        "id": "b1JtkEoRN1uT",
        "colab": {
          "base_uri": "https://localhost:8080/"
        },
        "outputId": "9735010f-9a7f-4a8c-c1a1-b519d37434ea"
      },
      "execution_count": null,
      "outputs": [
        {
          "output_type": "stream",
          "name": "stdout",
          "text": [
            "(tensor([ 21, 566, 286, 947, 189, 339, 947, 189,   0,   0,   0,   0,   0,   0,\n",
            "          0,   0,   0,   0,   0,   0]), tensor(0))\n"
          ]
        }
      ]
    },
    {
      "cell_type": "code",
      "source": [
        "# Функция создает диагональную матрицу-маску\n",
        "def make_diag_mask(size, radius):\n",
        "    \"\"\"Квадратная матрица размера Size x Size с двумя полосами ширины radius вдоль главной диагонали\"\"\"\n",
        "    idxs = torch.arange(size)\n",
        "    abs_idx_diff = (idxs.unsqueeze(0) - idxs.unsqueeze(1)).abs()\n",
        "    mask = ((abs_idx_diff <= radius) & (abs_idx_diff > 0)).float()\n",
        "    return mask\n",
        "\n",
        "make_diag_mask(10, 3)"
      ],
      "metadata": {
        "id": "c4AZ-ei9N2DS",
        "colab": {
          "base_uri": "https://localhost:8080/"
        },
        "outputId": "243cefca-3efb-46ef-d53f-6cf0306ef860"
      },
      "execution_count": null,
      "outputs": [
        {
          "output_type": "execute_result",
          "data": {
            "text/plain": [
              "tensor([[0., 1., 1., 1., 0., 0., 0., 0., 0., 0.],\n",
              "        [1., 0., 1., 1., 1., 0., 0., 0., 0., 0.],\n",
              "        [1., 1., 0., 1., 1., 1., 0., 0., 0., 0.],\n",
              "        [1., 1., 1., 0., 1., 1., 1., 0., 0., 0.],\n",
              "        [0., 1., 1., 1., 0., 1., 1., 1., 0., 0.],\n",
              "        [0., 0., 1., 1., 1., 0., 1., 1., 1., 0.],\n",
              "        [0., 0., 0., 1., 1., 1., 0., 1., 1., 1.],\n",
              "        [0., 0., 0., 0., 1., 1., 1., 0., 1., 1.],\n",
              "        [0., 0., 0., 0., 0., 1., 1., 1., 0., 1.],\n",
              "        [0., 0., 0., 0., 0., 0., 1., 1., 1., 0.]])"
            ]
          },
          "metadata": {},
          "execution_count": 21
        }
      ]
    },
    {
      "cell_type": "code",
      "source": [
        "# Класс предназначен для обучения модели с использованием метода SkipGram с отрицательной выборкой. Он наследуется от класса nn.Module и содержит логику обучения модели SkipGram с использованием отрицательной выборки.\n",
        "class SkipGramNegativeSamplingTrainer(nn.Module):\n",
        "    def __init__(self, vocab_size, emb_size, sentence_len, radius=5, negative_samples_n=5):\n",
        "        super().__init__()\n",
        "        self.vocab_size = vocab_size\n",
        "        self.negative_samples_n = negative_samples_n\n",
        "\n",
        "        self.center_emb = nn.Embedding(self.vocab_size, emb_size, padding_idx=0)\n",
        "        self.center_emb.weight.data.uniform_(-1.0 / emb_size, 1.0 / emb_size)\n",
        "        self.center_emb.weight.data[0] = 0\n",
        "\n",
        "        self.context_emb = nn.Embedding(self.vocab_size, emb_size, padding_idx=0)\n",
        "        self.context_emb.weight.data.uniform_(-1.0 / emb_size, 1.0 / emb_size)\n",
        "        self.context_emb.weight.data[0] = 0\n",
        "\n",
        "        self.positive_sim_mask = make_diag_mask(sentence_len, radius)\n",
        "\n",
        "    def forward(self, sentences):\n",
        "        \"\"\"sentences - Batch x MaxSentLength - идентификаторы токенов\"\"\"\n",
        "        batch_size = sentences.shape[0]\n",
        "        center_embeddings = self.center_emb(sentences)  # Batch x MaxSentLength x EmbSize\n",
        "\n",
        "        # оценить сходство с настоящими соседними словами\n",
        "        positive_context_embs = self.context_emb(sentences).permute(0, 2, 1)  # Batch x EmbSize x MaxSentLength\n",
        "        positive_sims = torch.bmm(center_embeddings, positive_context_embs)  # Batch x MaxSentLength x MaxSentLength\n",
        "        positive_probs = torch.sigmoid(positive_sims)\n",
        "\n",
        "        # увеличить оценку вероятности встретить эти пары слов вместе\n",
        "        positive_mask = self.positive_sim_mask.to(positive_sims.device)\n",
        "        positive_loss = F.binary_cross_entropy(positive_probs * positive_mask,\n",
        "                                               positive_mask.expand_as(positive_probs))\n",
        "\n",
        "        # выбрать случайные \"отрицательные\" слова\n",
        "        negative_words = torch.randint(1, self.vocab_size,\n",
        "                                       size=(batch_size, self.negative_samples_n),\n",
        "                                       device=sentences.device)  # Batch x NegSamplesN\n",
        "        negative_context_embs = self.context_emb(negative_words).permute(0, 2, 1)  # Batch x EmbSize x NegSamplesN\n",
        "        negative_sims = torch.bmm(center_embeddings, negative_context_embs)  # Batch x MaxSentLength x NegSamplesN\n",
        "\n",
        "        # уменьшить оценку вероятность встретить эти пары слов вместе\n",
        "        negative_loss = F.binary_cross_entropy_with_logits(negative_sims,\n",
        "                                                           negative_sims.new_zeros(negative_sims.shape))\n",
        "\n",
        "        return positive_loss + negative_loss\n",
        "\n",
        "\n",
        "def no_loss(pred, target):\n",
        "    \"\"\"Фиктивная функция потерь - когда модель сама считает функцию потерь\"\"\"\n",
        "    return pred"
      ],
      "metadata": {
        "id": "I9UBuQSQN9Zb"
      },
      "execution_count": null,
      "outputs": []
    },
    {
      "cell_type": "markdown",
      "source": [
        "# Обучение модели"
      ],
      "metadata": {
        "id": "wIvekqXdPUGK"
      }
    },
    {
      "cell_type": "code",
      "source": [
        "#Обучение\n",
        "trainer = SkipGramNegativeSamplingTrainer(len(vocabulary), 100, MAX_SENTENCE_LEN,\n",
        "                                          radius=5, negative_samples_n=25)"
      ],
      "metadata": {
        "id": "uRIY021aN9DL"
      },
      "execution_count": null,
      "outputs": []
    },
    {
      "cell_type": "code",
      "source": [
        "best_val_loss, best_model = train_eval_loop(trainer,\n",
        "                                            train_dataset,\n",
        "                                            test_dataset,\n",
        "                                            no_loss,\n",
        "                                            lr=1e-2,\n",
        "                                            epoch_n=2,\n",
        "                                            batch_size=8,\n",
        "                                            device='cpu',\n",
        "                                            early_stopping_patience=10,\n",
        "                                            max_batches_per_epoch_train=2000,\n",
        "                                            max_batches_per_epoch_val=len(test_dataset),\n",
        "                                            lr_scheduler_ctor=lambda optim: torch.optim.lr_scheduler.ReduceLROnPlateau(optim, patience=1, verbose=True))"
      ],
      "metadata": {
        "id": "VtcK4FPQOe8v",
        "colab": {
          "base_uri": "https://localhost:8080/"
        },
        "outputId": "1e6dce57-f6cf-4276-abf8-23ade3704f6e"
      },
      "execution_count": null,
      "outputs": [
        {
          "output_type": "stream",
          "name": "stdout",
          "text": [
            "Эпоха 0\n",
            "Эпоха: 118 итераций, 0.37 сек\n",
            "Среднее значение функции потерь на обучении 0.9040699419328722\n",
            "Среднее значение функции потерь на валидации 0.8375079751014709\n",
            "Новая лучшая модель!\n",
            "\n",
            "Эпоха 1\n",
            "Эпоха: 118 итераций, 0.25 сек\n",
            "Среднее значение функции потерь на обучении 0.8334288157648959\n",
            "Среднее значение функции потерь на валидации 0.8303842127323151\n",
            "Новая лучшая модель!\n",
            "\n"
          ]
        }
      ]
    },
    {
      "cell_type": "code",
      "source": [
        "torch.save(trainer.state_dict(), '/content/sgnsCommon.pth')"
      ],
      "metadata": {
        "id": "NHQgflkNOmRK"
      },
      "execution_count": null,
      "outputs": []
    },
    {
      "cell_type": "code",
      "source": [
        "trainer.load_state_dict(torch.load('/content/sgnsCommon.pth'))"
      ],
      "metadata": {
        "id": "GF1l_7aiO0fB",
        "colab": {
          "base_uri": "https://localhost:8080/"
        },
        "outputId": "667bc02f-7132-4fd0-9649-e0c754f904f0"
      },
      "execution_count": null,
      "outputs": [
        {
          "output_type": "execute_result",
          "data": {
            "text/plain": [
              "<All keys matched successfully>"
            ]
          },
          "metadata": {},
          "execution_count": 26
        }
      ]
    },
    {
      "cell_type": "markdown",
      "source": [
        "# Тестирование"
      ],
      "metadata": {
        "id": "Juhphm3_O85J"
      }
    },
    {
      "cell_type": "code",
      "source": [
        "embeddings = Embeddings(trainer.center_emb.weight.detach().cpu().numpy(), vocabulary)"
      ],
      "metadata": {
        "id": "lT8cpOpeOl5p"
      },
      "execution_count": null,
      "outputs": []
    },
    {
      "cell_type": "code",
      "source": [
        "embeddings.most_similar('пневмония')"
      ],
      "metadata": {
        "id": "btuhZHvaO8aC",
        "colab": {
          "base_uri": "https://localhost:8080/"
        },
        "outputId": "f40cf8c7-171e-4cc2-b1b5-60fe59f2e4a1"
      },
      "execution_count": null,
      "outputs": [
        {
          "output_type": "execute_result",
          "data": {
            "text/plain": [
              "[('пневмония', 0.999866),\n",
              " ('вначале', 0.7919912),\n",
              " ('воздействий', 0.79055524),\n",
              " ('течении', 0.7902787),\n",
              " ('общие', 0.78663474),\n",
              " ('режима', 0.7713285),\n",
              " ('единственным', 0.7694075),\n",
              " ('сосудистые', 0.76632375),\n",
              " ('старше', 0.76131195),\n",
              " ('картину', 0.76107466)]"
            ]
          },
          "metadata": {},
          "execution_count": 28
        }
      ]
    },
    {
      "cell_type": "code",
      "source": [
        "test_words = ['хобл', 'пневмония', 'острый', 'пациент', 'эмфизема', 'аспирации', 'инфекций', 'причины']\n",
        "test_vectors = embeddings.get_vectors(*test_words)\n",
        "print(test_vectors.shape)"
      ],
      "metadata": {
        "id": "oaPWKsKpO8HR",
        "colab": {
          "base_uri": "https://localhost:8080/"
        },
        "outputId": "03973ccd-7a5b-41e9-d0f6-9ec2247dafd7"
      },
      "execution_count": null,
      "outputs": [
        {
          "output_type": "stream",
          "name": "stdout",
          "text": [
            "(8, 100)\n"
          ]
        }
      ]
    },
    {
      "cell_type": "code",
      "source": [
        "fig, ax = plt.subplots()\n",
        "fig.set_size_inches((10, 10))\n",
        "plot_vectors(test_vectors, test_words, how='svd', ax=ax)"
      ],
      "metadata": {
        "id": "w_1jCUxpuIx3",
        "colab": {
          "base_uri": "https://localhost:8080/",
          "height": 830
        },
        "outputId": "76f4345d-d279-4c52-e272-3679a0b7edec"
      },
      "execution_count": null,
      "outputs": [
        {
          "output_type": "display_data",
          "data": {
            "text/plain": [
              "<Figure size 1000x1000 with 1 Axes>"
            ],
            "image/png": "[encoded data removed]"
          },
          "metadata": {}
        }
      ]
    },
    {
      "cell_type": "markdown",
      "source": [
        "# Поиск по запросу"
      ],
      "metadata": {
        "id": "WHP9RFEnvOGl"
      }
    },
    {
      "cell_type": "code",
      "source": [
        "dataFull = pd.read_csv('/content/fileFull.csv')"
      ],
      "metadata": {
        "id": "6TpdeTK7vTzT"
      },
      "execution_count": null,
      "outputs": []
    },
    {
      "cell_type": "code",
      "source": [
        "# Ввод списка входных данных\n",
        "input_diagnosis = input(\"Введите диагноз: \")\n",
        "input_words =[str(input_diagnosis)]\n",
        "input_severity = input(\"Введите степень тяжести (легкая, средняя, тяжелая, крайне тяжелая) / Пропуск Enter: \")\n",
        "if input_severity != (\"Не выбрано\" or \"\"):\n",
        "  input_words.append(input_severity)\n",
        "  input_words.append(\"тяжесть\")\n",
        "input_add = input(\"Дополнительно поиск по ключевым словам: \")\n",
        "if (input_add != ''):\n",
        "  input_words.append(str(input_add))\n",
        "#input_words= process_sentence(input_words)\n",
        "try:\n",
        "  neighboring_words = embeddings.most_similar(input_diagnosis)\n",
        "except ValueError:\n",
        "  neighboring_words = []\n",
        "if neighboring_words != []:\n",
        "  post_neighboring_words = []\n",
        "  for i in neighboring_words:\n",
        "    if (i[1] > 0.7):\n",
        "      post_neighboring_words.append(i[0])\n",
        "  print(post_neighboring_words)\n",
        "print(input_words)"
      ],
      "metadata": {
        "id": "prM_bHvtvmST"
      },
      "execution_count": null,
      "outputs": []
    },
    {
      "cell_type": "code",
      "source": [
        "# Поиск совпадений во всем фрейме данных\n",
        "matches_found = False\n",
        "advice = []\n",
        "for index, row in dataFull.iterrows():\n",
        "    if all(word in row['Нормализованный текст'] for word in input_words):\n",
        "        advice.append(str(row['Предложения']))\n",
        "        matches_found = True\n",
        "if neighboring_words != []:\n",
        "  for index, row in dataFull.iterrows():\n",
        "     if all(word in row['Нормализованный текст'] for word in post_neighboring_words):\n",
        "          advice.append(str(row['Предложения']))\n",
        "          matches_found = True\n",
        "\n",
        "if not matches_found:\n",
        "    print(\"К сожалению, информация не найдена\")"
      ],
      "metadata": {
        "id": "rrwHAmfzvmH8",
        "colab": {
          "base_uri": "https://localhost:8080/"
        },
        "outputId": "cd11901f-4e48-4969-8f5b-fe581ab0c74e"
      },
      "execution_count": null,
      "outputs": [
        {
          "output_type": "stream",
          "name": "stdout",
          "text": [
            "К сожалению, информация не найдена\n"
          ]
        }
      ]
    },
    {
      "cell_type": "code",
      "source": [
        "(list(set(advice)))\n",
        "for i in advice:\n",
        "  print(i)"
      ],
      "metadata": {
        "id": "h0EVMgBAvTTj"
      },
      "execution_count": null,
      "outputs": []
    }
  ]
}